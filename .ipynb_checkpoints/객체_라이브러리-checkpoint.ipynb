{
 "cells": [
  {
   "cell_type": "markdown",
   "id": "c6d1af04-afb3-4f00-8014-d67a3fe96b7a",
   "metadata": {},
   "source": [
    "1. 두 함수 차이?"
   ]
  },
  {
   "cell_type": "code",
   "execution_count": 2,
   "id": "fd898ada-ee75-487e-bd2a-7daa8a1b9f1f",
   "metadata": {},
   "outputs": [
    {
     "name": "stdout",
     "output_type": "stream",
     "text": [
      "Fun Coding\n"
     ]
    }
   ],
   "source": [
    "def print_string(data):\n",
    "    print(data)\n",
    "\n",
    "print_string(\"Fun Coding\")"
   ]
  },
  {
   "cell_type": "code",
   "execution_count": 4,
   "id": "5f7c7082-575f-4555-b623-2b9e8ba359ba",
   "metadata": {},
   "outputs": [
    {
     "data": {
      "text/plain": [
       "['Fun', 'Coding']"
      ]
     },
     "execution_count": 4,
     "metadata": {},
     "output_type": "execute_result"
    }
   ],
   "source": [
    "string = 'Fun Coding' #문자열 관련 설계도 있음 - 해당 설계도 기반 문자열1 객체가 만들어짐\n",
    "string.split() # 해당 문자열1 객체가 가지고 있는 메서드(method) "
   ]
  },
  {
   "cell_type": "markdown",
   "id": "1eac14b7-ce58-4bda-a337-7d58bb13b7a1",
   "metadata": {},
   "source": [
    "2. 객체지향 프로그래밍(Object Oriented Programming)\n",
    "\n",
    "   - 절차지향과 객체지향 프로그래밍\n",
    "       - 절차지향 프로그래밍\n",
    "            - 1990년대 이전 언어는 대부분 절차지향 프로그래밍\n",
    "            - 예: 냉장고에 코끼리를 넣는다 "
   ]
  },
  {
   "cell_type": "markdown",
   "id": "52fa2575-3f02-42e9-ba49-0a76020a5d98",
   "metadata": {},
   "source": [
    "객체지향\n",
    "1. 코끼리라는 사물의 기능, 정보에 대한 설계도 만든다\n",
    "2. 이 설계도를 기반으로 코끼리1 객체를 만든다\n",
    "3. 냉장고라는 사물의 기능, 정보에 대한 설계도를 만든다\n",
    "4. 이 설계도를 기반으로 냉장고1 객체를 만든다\n",
    "5. 코끼리1 의 객체의 기능을 호출해서 냉장고1의 객체의 문을 연다\n",
    "6. 코끼리1 의 객체의 기능을 호출해서 냉장고1의 객체안으로 들어간다\n",
    "7. 코끼리1 의 객체의 기능을 호출해서 냉장고1의 객체의 문을 닫는다\n"
   ]
  },
  {
   "cell_type": "markdown",
   "id": "c0909d70-9ca1-427f-9ac4-bc1fdc365004",
   "metadata": {},
   "source": [
    "1. 해당 사물을 나타낼 수 있는 설계도를 만든다 (class)\n",
    "2. 해당 사물의 설계도를 기반으로 사물1 객체를 만든다 (object)\n",
    "3. 사물1 객체의 기능을 호출한다\n",
    "   - attribute: 사물1 객체의 변수\n",
    "   - method: 사물1 객체의 함수"
   ]
  },
  {
   "cell_type": "markdown",
   "id": "b31f4b61-03c7-4a07-9505-a0162845e904",
   "metadata": {},
   "source": [
    "사물1객체의이름.method이름(인자) "
   ]
  },
  {
   "cell_type": "markdown",
   "id": "5e0a2e5b-cc2a-4d69-85ce-af80a52b00f9",
   "metadata": {},
   "source": [
    "[class 선언]\n"
   ]
  },
  {
   "cell_type": "code",
   "execution_count": 16,
   "id": "c8693811-8667-46f3-8fb9-b5c689db4067",
   "metadata": {},
   "outputs": [],
   "source": [
    "\n",
    "#class 클래스이름:\n",
    "    #attribute 선언\n",
    "    #method 선언\n",
    "\n",
    "#1. 선언\n",
    "class Qurd:\n",
    "    height = 0\n",
    "    width = 0\n",
    "    color = ''\n",
    "\n",
    "    def get_area(self, argument1, argument2):\n",
    "        print (argument1, argument2)\n",
    "        return self.name"
   ]
  },
  {
   "cell_type": "code",
   "execution_count": 17,
   "id": "6823f3fa-e5bb-467b-a862-95a28ce85a35",
   "metadata": {},
   "outputs": [],
   "source": [
    "#2. 객체 생성\n",
    "\n",
    "qurd1 = Qurd()\n",
    "qurd2 = Qurd()"
   ]
  },
  {
   "cell_type": "code",
   "execution_count": 18,
   "id": "7f59cc10-da23-4ff0-996d-bc68f0008100",
   "metadata": {},
   "outputs": [],
   "source": [
    "#3. 객체 기능 호출\n",
    "\n",
    "qurd1.width = 10 \n",
    "qurd1.height = 10\n",
    "qurd1.color='blue'\n",
    "\n",
    "qurd2.width = 5\n",
    "qurd2.height = 8\n",
    "qurd2.color = 'red'"
   ]
  },
  {
   "cell_type": "code",
   "execution_count": 14,
   "id": "375883c8-1791-4924-a9be-50db1591b212",
   "metadata": {},
   "outputs": [
    {
     "name": "stdout",
     "output_type": "stream",
     "text": [
      "10 5\n"
     ]
    }
   ],
   "source": [
    "print (qurd1.width,qurd2.width)"
   ]
  },
  {
   "cell_type": "code",
   "execution_count": 20,
   "id": "bc4be372-2716-4bef-b376-0de2d63c7564",
   "metadata": {},
   "outputs": [
    {
     "name": "stdout",
     "output_type": "stream",
     "text": [
      "blue red\n"
     ]
    }
   ],
   "source": [
    "print (qurd1.color, qurd2.color)"
   ]
  },
  {
   "cell_type": "code",
   "execution_count": null,
   "id": "87c314a0-3002-4a12-8f00-0fd68d70d405",
   "metadata": {},
   "outputs": [],
   "source": []
  },
  {
   "cell_type": "markdown",
   "id": "42042c12-1175-4fa5-9f0c-8ab6be4352cc",
   "metadata": {},
   "source": [
    "\n",
    "\n",
    "\n",
    "[파이썬 라이브러리]\n",
    "\n",
    "라이브러리: 미리 만들어놓은 함수 집합, 이름이 있음\n",
    "\n",
    "예제: 지수승 구하기 - 함수로 만들어보기\n",
    "\n"
   ]
  },
  {
   "cell_type": "code",
   "execution_count": 1,
   "id": "08654d49-e769-4fed-ad45-94bd7cf591ae",
   "metadata": {},
   "outputs": [
    {
     "data": {
      "text/plain": [
       "27"
      ]
     },
     "execution_count": 1,
     "metadata": {},
     "output_type": "execute_result"
    }
   ],
   "source": [
    "3 ** 3"
   ]
  },
  {
   "cell_type": "markdown",
   "id": "68cbeb54-0380-4a33-9512-dc508c54af03",
   "metadata": {},
   "source": [
    "* 임의의 숫자와 지수를 입력으로 받아서, 지수승 구하기"
   ]
  },
  {
   "cell_type": "code",
   "execution_count": 2,
   "id": "7e42be9a-b5d5-4669-a6b0-9877dbce7a2a",
   "metadata": {},
   "outputs": [],
   "source": [
    "def exponential (digit, exponent): \n",
    "    value = digit ** exponent\n",
    "    return value"
   ]
  },
  {
   "cell_type": "code",
   "execution_count": 3,
   "id": "d014c98d-8b4b-4234-ac12-2a0b47cfbf6d",
   "metadata": {},
   "outputs": [
    {
     "name": "stdout",
     "output_type": "stream",
     "text": [
      "27\n"
     ]
    }
   ],
   "source": [
    "print (exponential(3,3))"
   ]
  },
  {
   "cell_type": "markdown",
   "id": "731c5052-edc9-443b-92f3-e60f0cf7faaf",
   "metadata": {},
   "source": [
    "\n",
    "* 수학함수들을 모아놓은 라이브러리가 있음 - math 라이브러리\n",
    "   - math 라이브러리에 pow 라는 이름으로 지수승을 계산해주는 함수를 구현해놓았음"
   ]
  },
  {
   "cell_type": "code",
   "execution_count": 4,
   "id": "a1b54868-0b7c-4319-b119-8330ba7b499a",
   "metadata": {},
   "outputs": [
    {
     "name": "stdout",
     "output_type": "stream",
     "text": [
      "27.0\n"
     ]
    }
   ],
   "source": [
    "import math\n",
    "num = math.pow(3,3)\n",
    "print (num)"
   ]
  },
  {
   "cell_type": "markdown",
   "id": "0ebe0de3-ff3a-4b75-a90a-ba62310440d6",
   "metadata": {},
   "source": [
    "* math 라이브러리에 factorial 라는 이름으로 펙토리얼을 계산해주는 함수 "
   ]
  },
  {
   "cell_type": "code",
   "execution_count": 5,
   "id": "59e340f8-c40a-4386-b2ff-3baa4b7ba3a2",
   "metadata": {},
   "outputs": [
    {
     "data": {
      "text/plain": [
       "120"
      ]
     },
     "execution_count": 5,
     "metadata": {},
     "output_type": "execute_result"
    }
   ],
   "source": [
    "math.factorial(5)"
   ]
  },
  {
   "cell_type": "markdown",
   "id": "7541240a-be1e-4630-a4ab-66f493dfcc70",
   "metadata": {},
   "source": [
    "[라이브러리 사용법]\n",
    "- import 라이브러리명\n",
    "- 라이브러리명.함수명()\n",
    "- 함수명만 사용"
   ]
  },
  {
   "cell_type": "code",
   "execution_count": 7,
   "id": "b6f7281a-2c5e-4674-aca9-50263ca8cb5e",
   "metadata": {},
   "outputs": [
    {
     "name": "stdout",
     "output_type": "stream",
     "text": [
      "2.23606797749979\n",
      "120\n"
     ]
    }
   ],
   "source": [
    "#math 라이브러리에 있는 함수 중, sqrt, factorial 함수만 import\n",
    "from math import sqrt, factorial \n",
    "\n",
    "num = sqrt(5)\n",
    "print (num)\n",
    "num2 = factorial(5)\n",
    "print (num2)"
   ]
  },
  {
   "cell_type": "markdown",
   "id": "c6bf48f8-6e8c-421a-b07b-fcf1634915b7",
   "metadata": {},
   "source": [
    "* 해당 라이브러리에 있는 모든 함수를 라이브러리명 없이 쓸 수 있음"
   ]
  },
  {
   "cell_type": "code",
   "execution_count": 8,
   "id": "7a1d2bbd-d259-4d8d-b04f-2a1a5297413b",
   "metadata": {},
   "outputs": [
    {
     "name": "stdout",
     "output_type": "stream",
     "text": [
      "8.23606797749979\n"
     ]
    }
   ],
   "source": [
    "#math 라이브러리에 있는 모든 함수를 import\n",
    "from math import *\n",
    "num = sqrt(5) + factorial(3)\n",
    "print (num)"
   ]
  },
  {
   "cell_type": "code",
   "execution_count": 10,
   "id": "e3d3e38e-618c-4a7f-8d0a-696f2e670faf",
   "metadata": {},
   "outputs": [
    {
     "name": "stdout",
     "output_type": "stream",
     "text": [
      "8.23606797749979\n"
     ]
    }
   ],
   "source": [
    "from math import *\n",
    "num = sqrt(5) + factorial(3)\n",
    "print (num)"
   ]
  },
  {
   "cell_type": "markdown",
   "id": "26389647-1361-4b2e-a28d-127b1742b2c1",
   "metadata": {},
   "source": [
    "* 라이브러리에 있는 함수명이 길거나 해서 다른 이름으로 쓰고 싶으면 다음과 같이 작성"
   ]
  },
  {
   "cell_type": "code",
   "execution_count": 11,
   "id": "a16a9d14-b371-476c-92c2-cdbbb1110367",
   "metadata": {},
   "outputs": [
    {
     "name": "stdout",
     "output_type": "stream",
     "text": [
      "120\n"
     ]
    }
   ],
   "source": [
    "import math as dave\n",
    "num = dave.factorial(5)\n",
    "print (num)"
   ]
  },
  {
   "cell_type": "code",
   "execution_count": 12,
   "id": "09c23361-eede-47da-9f2a-9f9482b6e797",
   "metadata": {},
   "outputs": [
    {
     "name": "stdout",
     "output_type": "stream",
     "text": [
      "120\n"
     ]
    }
   ],
   "source": [
    "#factorial() 함수를 f() 사용 가능\n",
    "from math import factorial as f \n",
    "num = f(5)\n",
    "print (num)"
   ]
  },
  {
   "cell_type": "code",
   "execution_count": 13,
   "id": "188471d6-aa59-4fa6-9161-76db93ccd27d",
   "metadata": {},
   "outputs": [
    {
     "name": "stdout",
     "output_type": "stream",
     "text": [
      "120\n"
     ]
    }
   ],
   "source": [
    "from math import factorial as dave\n",
    "num = f(5)\n",
    "print(num)"
   ]
  },
  {
   "cell_type": "code",
   "execution_count": null,
   "id": "af81c956-e463-45fb-bfee-9aeecefae0c7",
   "metadata": {},
   "outputs": [],
   "source": []
  },
  {
   "cell_type": "code",
   "execution_count": null,
   "id": "0ae4c6a9-5c95-4825-a628-a67e23b42c72",
   "metadata": {},
   "outputs": [],
   "source": []
  },
  {
   "cell_type": "code",
   "execution_count": null,
   "id": "1fc6ec6a-547e-411d-8709-f106cfd5a75d",
   "metadata": {},
   "outputs": [],
   "source": []
  }
 ],
 "metadata": {
  "kernelspec": {
   "display_name": "Python 3 (ipykernel)",
   "language": "python",
   "name": "python3"
  },
  "language_info": {
   "codemirror_mode": {
    "name": "ipython",
    "version": 3
   },
   "file_extension": ".py",
   "mimetype": "text/x-python",
   "name": "python",
   "nbconvert_exporter": "python",
   "pygments_lexer": "ipython3",
   "version": "3.9.18"
  }
 },
 "nbformat": 4,
 "nbformat_minor": 5
}
