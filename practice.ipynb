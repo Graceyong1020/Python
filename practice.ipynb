{
 "cells": [
  {
   "cell_type": "code",
   "execution_count": 114,
   "id": "a75de8f5-3469-4751-b8d9-e9171970134e",
   "metadata": {},
   "outputs": [
    {
     "name": "stdout",
     "output_type": "stream",
     "text": [
      "hello python\n"
     ]
    }
   ],
   "source": [
    "print ('hello python')"
   ]
  },
  {
   "cell_type": "code",
   "execution_count": 115,
   "id": "7f33bdb2-c747-4322-af10-f7cca0db0bd8",
   "metadata": {},
   "outputs": [
    {
     "name": "stdout",
     "output_type": "stream",
     "text": [
      "10\n",
      "7\n",
      "2.142857142857143\n",
      "3400\n",
      "6\n"
     ]
    }
   ],
   "source": [
    "print(3 + 7)\n",
    "print(10 - 3)\n",
    "print(15 / 7)\n",
    "print(34 * 100)\n",
    "print ((1+1) *3)"
   ]
  },
  {
   "cell_type": "code",
   "execution_count": 116,
   "id": "96cd67c8-667b-42a5-8741-e18e80a4dae8",
   "metadata": {},
   "outputs": [
    {
     "name": "stdout",
     "output_type": "stream",
     "text": [
      "hello python\n",
      "hello 1 1.1 True\n"
     ]
    }
   ],
   "source": [
    "# valiable\n",
    "\n",
    "print('hello python')\n",
    "str_data = 'hello' #string\n",
    "int_data = 1 #integer\n",
    "float_data = 1.1 \n",
    "bool_data = True # Boolean \n",
    "\n",
    "print(str_data, int_data, float_data, bool_data)\n"
   ]
  },
  {
   "cell_type": "code",
   "execution_count": 117,
   "id": "119e00c8-83ff-4b59-b8d2-a9619378db8e",
   "metadata": {},
   "outputs": [
    {
     "name": "stdout",
     "output_type": "stream",
     "text": [
      "19\n",
      "9\n",
      "70\n",
      "2.8\n"
     ]
    }
   ],
   "source": [
    "num1 = 14\n",
    "num2 = 5\n",
    "print(num1 + num2)\n",
    "print(num1 - num2)\n",
    "print(num1 * num2)\n",
    "print(num1 / num2)\n"
   ]
  },
  {
   "cell_type": "code",
   "execution_count": 118,
   "id": "97be9e8d-8100-4a04-99ae-d7e2c36625ee",
   "metadata": {},
   "outputs": [
    {
     "name": "stdout",
     "output_type": "stream",
     "text": [
      "True\n",
      "False\n",
      "True\n",
      "True\n",
      "True\n",
      "False\n",
      "True\n"
     ]
    }
   ],
   "source": [
    "print(3 < 7)\n",
    "print(10 < 3)\n",
    "print(15 > 7)\n",
    "print(3 >= 3)\n",
    "print(3 <= 10)\n",
    "print(34 == 100)\n",
    "print(34 != 100)"
   ]
  },
  {
   "cell_type": "code",
   "execution_count": 119,
   "id": "477ea610-80f4-4d66-a87d-0bb9dce1289a",
   "metadata": {},
   "outputs": [
    {
     "name": "stdout",
     "output_type": "stream",
     "text": [
      "20 62.800000000000004 314.0\n"
     ]
    }
   ],
   "source": [
    "r = 10\n",
    "pi = 3.14\n",
    "\n",
    "diameter = r *2 \n",
    "circumference = 2*pi*r\n",
    "area = pi * (r **2) \n",
    "\n",
    "print(diameter, circumference, area)"
   ]
  },
  {
   "cell_type": "code",
   "execution_count": 120,
   "id": "f7bc27e8-ce5b-415d-8d28-758fe883e0e4",
   "metadata": {},
   "outputs": [
    {
     "ename": "TypeError",
     "evalue": "'str' object is not callable",
     "output_type": "error",
     "traceback": [
      "\u001b[1;31m---------------------------------------------------------------------------\u001b[0m",
      "\u001b[1;31mTypeError\u001b[0m                                 Traceback (most recent call last)",
      "Cell \u001b[1;32mIn[120], line 5\u001b[0m\n\u001b[0;32m      3\u001b[0m \u001b[38;5;28mfloat\u001b[39m(\u001b[38;5;241m3\u001b[39m)\n\u001b[0;32m      4\u001b[0m \u001b[38;5;28mint\u001b[39m(\u001b[38;5;241m3.6\u001b[39m)\n\u001b[1;32m----> 5\u001b[0m \u001b[38;5;28;43mstr\u001b[39;49m\u001b[43m(\u001b[49m\u001b[38;5;241;43m1\u001b[39;49m\u001b[43m)\u001b[49m\n\u001b[0;32m      6\u001b[0m \u001b[38;5;28mint\u001b[39m(\u001b[38;5;124m'\u001b[39m\u001b[38;5;124m12\u001b[39m\u001b[38;5;124m'\u001b[39m)\n",
      "\u001b[1;31mTypeError\u001b[0m: 'str' object is not callable"
     ]
    }
   ],
   "source": [
    "#Type Casting\n",
    "\n",
    "float(3)\n",
    "int(3.6)\n",
    "str(1)\n",
    "int('12') # str -> int "
   ]
  },
  {
   "cell_type": "code",
   "execution_count": null,
   "id": "bb9c5d57-e1a8-4d0c-9abd-0b8fdd91a671",
   "metadata": {},
   "outputs": [
    {
     "name": "stdout",
     "output_type": "stream",
     "text": [
      "<class 'str'>\n"
     ]
    }
   ],
   "source": [
    "digit_str = '123'\n",
    "print(type(digit_str))"
   ]
  },
  {
   "cell_type": "markdown",
   "id": "3c374167-99e0-41c6-9bb4-8abaccbde72e",
   "metadata": {},
   "source": [
    "\n",
    "[1.String]\n",
    "\n",
    "\n",
    "* input & print"
   ]
  },
  {
   "cell_type": "code",
   "execution_count": null,
   "id": "9e3c0adb-8c9d-46ad-ace7-0e069f733e25",
   "metadata": {},
   "outputs": [],
   "source": [
    "article= \"\"\"Who is Yoon and why did he impose martial law?\n",
    "On 3 December, the country was stunned when Yoon said he was imposing martial law to protect the country from \"anti-state\" forces that sympathised with North Korea.\n",
    "\n",
    "South Korean politicians immediately called Yoon's declaration illegal and unconstitutional. The leader of his own party, the conservative People's Power Party, also called Yoon's act \"the wrong move\".\n",
    "\n",
    "Meanwhile, the leader of the country's largest opposition party, Lee Jae-myung of the liberal Democratic Party (DP) called on his MPs to converge on parliament to vote down the declaration.\n",
    "\n",
    "He also called on ordinary South Koreans to show up at parliament in protest.\n",
    "\n",
    "Thousands heeded the call, rushing to gather outside the now heavily guarded parliament. Protesters chanted \"no martial law\" and \"strike down dictatorship\".\n",
    "\n",
    "And lawmakers were also able to make their way around the barricades - even climbing fences to make it to the voting chamber.\n",
    "\n",
    "Shortly after 01:00 on Wednesday, South Korea's parliament, with 190 of its 300 members present, voted down the measure. President Yoon's declaration of martial law was ruled invalid.\n",
    "\n",
    "The last time martial law was declared in South Korea was in 1979, when the country's then long-term military dictator Park Chung-hee was assassinated during a coup.\n",
    "\n",
    "It has never been invoked since the country became a parliamentary democracy in 1987.\n",
    "\n",
    "But why did he do it?\n",
    "\n",
    "Yoon was relegated to a lame duck president and reduced to vetoing bills passed by the opposition, a tactic that he used with \"unprecedented frequency\", said Celeste Arrington, director of The George Washington University Institute for Korean Studies.\n",
    "\n",
    "Then on the week on 3 December, the opposition slashed the budget the government and ruling party had put forward.\n",
    "\n",
    "Around the same time, the opposition was moving to impeach cabinet members, mainly the head of the government audit agency, for failing to investigate the president's wife.\n",
    "\n",
    "With political challenges pushing his back against the wall, Yoon went for the nuclear option - pressing the red button of martial law.\"\"\""
   ]
  },
  {
   "cell_type": "code",
   "execution_count": null,
   "id": "1945e9d4-c813-45c7-9d5d-ffe31ddc6852",
   "metadata": {},
   "outputs": [
    {
     "name": "stdout",
     "output_type": "stream",
     "text": [
      "W\n"
     ]
    }
   ],
   "source": [
    "print(article[0]) # first letter "
   ]
  },
  {
   "cell_type": "code",
   "execution_count": null,
   "id": "db1d749b-d3f9-4a6e-a1fc-ea2af15ccc13",
   "metadata": {},
   "outputs": [
    {
     "name": "stdout",
     "output_type": "stream",
     "text": [
      "4\n",
      "2111\n",
      "213\n",
      "Who is Y and why did he impose martial law?\n",
      "On 3 December, the country was stunned when Y said he was imposing martial law to protect the country from \"anti-state\" forces that sympathised with North Korea.\n",
      "\n",
      "South Korean politicians immediately called Y's declaration illegal and unconstitutional. The leader of his own party, the conservative People's Power Party, also called Y's act \"the wrong move\".\n",
      "\n",
      "Meanwhile, the leader of the country's largest opposition party, Lee Jae-myung of the liberal Democratic Party (DP) called on his MPs to converge on parliament to vote down the declaration.\n",
      "\n",
      "He also called on ordinary South Koreans to show up at parliament in protest.\n",
      "\n",
      "Thousands heeded the call, rushing to gather outside the now heavily guarded parliament. Protesters chanted \"no martial law\" and \"strike down dictatorship\".\n",
      "\n",
      "And lawmakers were also able to make their way around the barricades - even climbing fences to make it to the voting chamber.\n",
      "\n",
      "Shortly after 01:00 on Wednesday, South Korea's parliament, with 190 of its 300 members present, voted down the measure. President Y's declaration of martial law was ruled invalid.\n",
      "\n",
      "The last time martial law was declared in South Korea was in 1979, when the country's then long-term military dictator Park Chung-hee was assassinated during a coup.\n",
      "\n",
      "It has never been invoked since the country became a parliamentary democracy in 1987.\n",
      "\n",
      "But why did he do it?\n",
      "\n",
      "Y was relegated to a lame duck president and reduced to vetoing bills passed by the opposition, a tactic that he used with \"unprecedented frequency\", said Celeste Arrington, director of The George Washington University Institute for Korean Studies.\n",
      "\n",
      "Then on the week on 3 December, the opposition slashed the budget the government and ruling party had put forward.\n",
      "\n",
      "Around the same time, the opposition was moving to impeach cabinet members, mainly the head of the government audit agency, for failing to investigate the president's wife.\n",
      "\n",
      "With political challenges pushing his back against the wall, Y went for the nuclear option - pressing the red button of martial law.\n"
     ]
    }
   ],
   "source": [
    "print(article.count(\"South\"))\n",
    "print(len(article)) # string count\n",
    "print(article.find(\"S\")) # S가 몇번째에 처음 나오는지 \n",
    "print(article.replace(\"Yoon\", \"Y\"))"
   ]
  },
  {
   "cell_type": "code",
   "execution_count": null,
   "id": "1c98a3aa-3ad9-4e44-9f4c-5e408190f825",
   "metadata": {},
   "outputs": [
    {
     "name": "stdout",
     "output_type": "stream",
     "text": [
      "th\n"
     ]
    }
   ],
   "source": [
    "string1 = 'python'\n",
    "\n",
    "print(string1[2:4]) # 2~3까지 출력 (특정 문자열 출력) "
   ]
  },
  {
   "cell_type": "code",
   "execution_count": null,
   "id": "3c2251fe-beff-43a5-aa3b-5e515a9802e4",
   "metadata": {},
   "outputs": [
    {
     "name": "stdout",
     "output_type": "stream",
     "text": [
      "     grace...\n"
     ]
    },
    {
     "data": {
      "text/plain": [
       "'     grace'"
      ]
     },
     "execution_count": 13,
     "metadata": {},
     "output_type": "execute_result"
    }
   ],
   "source": [
    "some_string = \"     grace...\"\n",
    "print(some_string)\n",
    "some_string.strip()\n",
    "some_string.strip(\".\")"
   ]
  },
  {
   "cell_type": "code",
   "execution_count": null,
   "id": "766de75d-49e9-40a5-b1dc-d9fad9310cbe",
   "metadata": {},
   "outputs": [
    {
     "name": "stdout",
     "output_type": "stream",
     "text": [
      "I have a pen, I have an apple.\n",
      "I have a pen, I have an apple.\n"
     ]
    }
   ],
   "source": [
    "print(\"I have a {}, I have an {}.\".format( \"pen\", \"apple\"))\n",
    "print(\"I have a {0}, I have an {1}.\".format( \"pen\", \"apple\"))"
   ]
  },
  {
   "cell_type": "code",
   "execution_count": null,
   "id": "f0dea919-d088-4260-91ba-d184d9382456",
   "metadata": {},
   "outputs": [
    {
     "name": "stdout",
     "output_type": "stream",
     "text": [
      "0.89\n"
     ]
    }
   ],
   "source": [
    "interest = 0.891\n",
    "print (format(interest, \".2f\")) # 소수점 두번째까지만 "
   ]
  },
  {
   "cell_type": "code",
   "execution_count": null,
   "id": "1823c53e-5ca7-4fd9-be3d-5dae61975600",
   "metadata": {},
   "outputs": [
    {
     "name": "stdout",
     "output_type": "stream",
     "text": [
      "I am grace, I am 20 years old.\n"
     ]
    }
   ],
   "source": [
    "# %s -string, %c - character, %d - int, %f - float \n",
    "\n",
    "print (\"I am %s, I am %d years old.\" %(\"grace\", 20))"
   ]
  },
  {
   "cell_type": "code",
   "execution_count": null,
   "id": "192c0a85-f417-4945-89e2-8e2a47398c1a",
   "metadata": {},
   "outputs": [
    {
     "name": "stdout",
     "output_type": "stream",
     "text": [
      "3.1\n"
     ]
    }
   ],
   "source": [
    "#소수 첫 번째 자리지지\n",
    "\n",
    "digit = 3.1234\n",
    "print(format(digit, \".1f\"))"
   ]
  },
  {
   "cell_type": "code",
   "execution_count": null,
   "id": "7ce045c9-c8ba-4252-a714-02e7cf32c644",
   "metadata": {},
   "outputs": [
    {
     "name": "stdout",
     "output_type": "stream",
     "text": [
      "720\n",
      "100\n"
     ]
    }
   ],
   "source": [
    "# 문자열 <-> 정수\n",
    "\n",
    "data = '720'\n",
    "print (int(data))\n",
    "\n",
    "data1 = 100\n",
    "print (str(data1))"
   ]
  },
  {
   "cell_type": "code",
   "execution_count": null,
   "id": "26dc61b0-8bfc-462e-b328-156df4b44da2",
   "metadata": {},
   "outputs": [
    {
     "name": "stdout",
     "output_type": "stream",
     "text": [
      "36\n"
     ]
    }
   ],
   "source": [
    "# 6의 2승\n",
    "\n",
    "print (6**2)"
   ]
  },
  {
   "cell_type": "code",
   "execution_count": null,
   "id": "edb9ab6b-d319-4bad-952d-02d87d014826",
   "metadata": {},
   "outputs": [
    {
     "name": "stdout",
     "output_type": "stream",
     "text": [
      "['서울', '대전', '대구', '부산']\n",
      "서울\n"
     ]
    }
   ],
   "source": [
    "# List\n",
    "\n",
    "location = ['서울', '대전', '대구', '부산']\n",
    "print(location)\n",
    "print(location[0])"
   ]
  },
  {
   "cell_type": "code",
   "execution_count": null,
   "id": "280e8b2b-0156-4ee8-b49b-38126c946303",
   "metadata": {},
   "outputs": [
    {
     "data": {
      "text/plain": [
       "['서울', '대전', '대구', '부산', '제주', '제주']"
      ]
     },
     "execution_count": 26,
     "metadata": {},
     "output_type": "execute_result"
    }
   ],
   "source": [
    "# add data in list\n",
    "\n",
    "location.append('제주')\n",
    "location"
   ]
  },
  {
   "cell_type": "code",
   "execution_count": null,
   "id": "8ce7403a",
   "metadata": {},
   "outputs": [
    {
     "data": {
      "text/plain": [
       "['인천', '인천', '서울', '제주', '제주']"
      ]
     },
     "execution_count": 34,
     "metadata": {},
     "output_type": "execute_result"
    }
   ],
   "source": [
    "location.insert(0, '인천')\n",
    "location"
   ]
  },
  {
   "cell_type": "code",
   "execution_count": null,
   "id": "3ac62c36-64b5-478d-8e10-a8b4e1f56b74",
   "metadata": {},
   "outputs": [
    {
     "data": {
      "text/plain": [
       "['대전', '대구']"
      ]
     },
     "execution_count": 27,
     "metadata": {},
     "output_type": "execute_result"
    }
   ],
   "source": [
    "location[1:3]"
   ]
  },
  {
   "cell_type": "code",
   "execution_count": null,
   "id": "6be73155",
   "metadata": {},
   "outputs": [
    {
     "data": {
      "text/plain": [
       "['서울', '제주', '제주']"
      ]
     },
     "execution_count": 32,
     "metadata": {},
     "output_type": "execute_result"
    }
   ],
   "source": [
    "# delete\n",
    "\n",
    "del location[1]\n",
    "location"
   ]
  },
  {
   "cell_type": "code",
   "execution_count": null,
   "id": "f7ac3fe3",
   "metadata": {},
   "outputs": [],
   "source": [
    "# empty list\n",
    "# location = [] \n",
    "location = list()\n",
    "\n",
    "location.append('서울')\n",
    "location.append('대전')"
   ]
  },
  {
   "cell_type": "code",
   "execution_count": null,
   "id": "82b712f3",
   "metadata": {},
   "outputs": [
    {
     "data": {
      "text/plain": [
       "'대전'"
      ]
     },
     "execution_count": 36,
     "metadata": {},
     "output_type": "execute_result"
    }
   ],
   "source": [
    "location[1]"
   ]
  },
  {
   "cell_type": "markdown",
   "id": "014a2ddb",
   "metadata": {},
   "source": [
    "## 리스트 변수\n",
    "\n",
    "1. 리스트 선언\n",
    "  - 리스트변수 = []\n",
    "  - 리스트 변수 = list()\n",
    "  - 리스트변수 = [데이터1, 데이터2,....]\n",
    "\n",
    "2. 리스트 추가\n",
    "  - 리스트변수.append(data)\n",
    "  - 리스트변수.insert(indexNum, data)\n",
    "\n",
    "3. 리스트 삭제\n",
    "  - 리스트변수.remove(data)\n",
    "  - del 리스트변수(인덱스번호)\n",
    "\n",
    "4. 리스트 데이터 수정\n",
    "  - 리스트변수[인덱스번호] =수정할 데이터 "
   ]
  },
  {
   "cell_type": "code",
   "execution_count": null,
   "id": "088b190d",
   "metadata": {},
   "outputs": [
    {
     "data": {
      "text/plain": [
       "['서울', '대전']"
      ]
     },
     "execution_count": 38,
     "metadata": {},
     "output_type": "execute_result"
    }
   ],
   "source": [
    "location"
   ]
  },
  {
   "cell_type": "code",
   "execution_count": null,
   "id": "9c3b9c31",
   "metadata": {},
   "outputs": [
    {
     "data": {
      "text/plain": [
       "['서울', '부산']"
      ]
     },
     "execution_count": 39,
     "metadata": {},
     "output_type": "execute_result"
    }
   ],
   "source": [
    "location[1] = '부산'\n",
    "location"
   ]
  },
  {
   "cell_type": "code",
   "execution_count": null,
   "id": "4f3b5b99",
   "metadata": {},
   "outputs": [],
   "source": [
    "location = ['seoul', 'busan', 1,2.1, True] # 다양한 데이터 타입을 넣을 수 있음"
   ]
  },
  {
   "cell_type": "code",
   "execution_count": null,
   "id": "6a27e812",
   "metadata": {},
   "outputs": [
    {
     "name": "stdout",
     "output_type": "stream",
     "text": [
      "[3, 1, 7, 10, 5]\n",
      "[1, 3, 5, 7, 10]\n"
     ]
    }
   ],
   "source": [
    "# 리스트 데이터 정렬\n",
    "\n",
    "numbers = [3, 1, 7, 10, 5]\n",
    "print(numbers)\n",
    "\n",
    "numbers.sort()\n",
    "print(numbers)"
   ]
  },
  {
   "cell_type": "code",
   "execution_count": null,
   "id": "4db32b84",
   "metadata": {},
   "outputs": [
    {
     "name": "stdout",
     "output_type": "stream",
     "text": [
      "[5, 10, 7, 1, 3]\n"
     ]
    }
   ],
   "source": [
    "# 리스트 데이터 역순 정렬\n",
    "\n",
    "numbers = [3, 1, 7, 10, 5]\n",
    "numbers.reverse()\n",
    "print(numbers)"
   ]
  },
  {
   "cell_type": "code",
   "execution_count": null,
   "id": "d74c42d3",
   "metadata": {},
   "outputs": [
    {
     "data": {
      "text/plain": [
       "['python', 'is', 'easy']"
      ]
     },
     "execution_count": 44,
     "metadata": {},
     "output_type": "execute_result"
    }
   ],
   "source": [
    "# 문자열 특수 함수와 리스트\n",
    "\n",
    "python_is_easy = 'python is easy'\n",
    "python_is_easy.split() # 공백을 기준으로 나눔"
   ]
  },
  {
   "cell_type": "code",
   "execution_count": null,
   "id": "e2c863a0",
   "metadata": {},
   "outputs": [],
   "source": []
  },
  {
   "cell_type": "markdown",
   "id": "d1580c53",
   "metadata": {},
   "source": [
    "[조건문]"
   ]
  },
  {
   "cell_type": "code",
   "execution_count": null,
   "id": "2c4c1d62",
   "metadata": {},
   "outputs": [
    {
     "name": "stdout",
     "output_type": "stream",
     "text": [
      "adult\n"
     ]
    }
   ],
   "source": [
    "age = input(\"age?\")\n",
    "age_digit = int(age)\n",
    "if age_digit >= 19:\n",
    "    print('adult') "
   ]
  },
  {
   "cell_type": "code",
   "execution_count": null,
   "id": "6cb5e1f7",
   "metadata": {},
   "outputs": [
    {
     "name": "stdout",
     "output_type": "stream",
     "text": [
      "rich\n"
     ]
    }
   ],
   "source": [
    "cash = int(input(\"cash?\"))\n",
    "if cash > 10000:\n",
    "    print('rich')"
   ]
  },
  {
   "cell_type": "code",
   "execution_count": null,
   "id": "20fb15ff",
   "metadata": {},
   "outputs": [
    {
     "name": "stdout",
     "output_type": "stream",
     "text": [
      "teenager\n"
     ]
    }
   ],
   "source": [
    "age = int(input(\"age?\"))\n",
    "if age >= 19:\n",
    "    print('adult')\n",
    "else:\n",
    "    print('teenager')"
   ]
  },
  {
   "cell_type": "code",
   "execution_count": null,
   "id": "fc9fa999",
   "metadata": {},
   "outputs": [
    {
     "name": "stdout",
     "output_type": "stream",
     "text": [
      "kid\n"
     ]
    }
   ],
   "source": [
    "age = int(input(\"age?\"))\n",
    "if age >= 19:\n",
    "    print('adult')\n",
    "elif age >= 13:\n",
    "    print('teenager')\n",
    "else:\n",
    "    print('kid')"
   ]
  },
  {
   "cell_type": "code",
   "execution_count": null,
   "id": "3ca16178",
   "metadata": {},
   "outputs": [
    {
     "name": "stdout",
     "output_type": "stream",
     "text": [
      "buy coffee\n"
     ]
    }
   ],
   "source": [
    "cash = 50000\n",
    "if cash >= 30000:\n",
    "    print('buy coffee')\n",
    "else: \n",
    "    if cash >= 10000:\n",
    "        print('buy juice')\n",
    "    else:\n",
    "        print('buy water')\n"
   ]
  },
  {
   "cell_type": "markdown",
   "id": "1e5cc350",
   "metadata": {},
   "source": [
    "practice"
   ]
  },
  {
   "cell_type": "code",
   "execution_count": null,
   "id": "7f5a3f48",
   "metadata": {},
   "outputs": [
    {
     "name": "stdout",
     "output_type": "stream",
     "text": [
      "<class 'int'>\n",
      "<class 'float'>\n",
      "<class 'str'>\n"
     ]
    }
   ],
   "source": [
    "# data type\n",
    "\n",
    "data1 = 10\n",
    "data2 = 2.2\n",
    "data3 = 'hello'\n",
    "\n",
    "print(type(data1))\n",
    "print(type(data2))\n",
    "print(type(data3))"
   ]
  },
  {
   "cell_type": "code",
   "execution_count": null,
   "id": "08561097",
   "metadata": {},
   "outputs": [
    {
     "name": "stdout",
     "output_type": "stream",
     "text": [
      "data2 is bigger\n"
     ]
    }
   ],
   "source": [
    "# if\n",
    "\n",
    "data1 = int(input('data1?'))\n",
    "data2 = int(input('data2?'))\n",
    "\n",
    "if data1 > data2:\n",
    "    print('data1 is bigger')\n",
    "else: \n",
    "    print('data2 is bigger')\n",
    "    "
   ]
  },
  {
   "cell_type": "code",
   "execution_count": null,
   "id": "aacde6e7",
   "metadata": {},
   "outputs": [
    {
     "name": "stdout",
     "output_type": "stream",
     "text": [
      "even\n"
     ]
    }
   ],
   "source": [
    "data = int(input('data?'))\n",
    "\n",
    "if data %2 == 0:\n",
    "    print('even')\n",
    "else:\n",
    "    print('odd')"
   ]
  },
  {
   "cell_type": "code",
   "execution_count": null,
   "id": "9c94635d",
   "metadata": {},
   "outputs": [
    {
     "name": "stdout",
     "output_type": "stream",
     "text": [
      "2\n"
     ]
    }
   ],
   "source": [
    "data1 = int(input('data1?'))\n",
    "data2 = int(input('data2?'))\n",
    "data3 = int(input('data3?'))\n",
    "\n",
    "if data1 <=  data2 and data1 <= data3:\n",
    "    print(data1)\n",
    "elif data2 <= data1 and data2 <= data3:\n",
    "    print(data2)\n",
    "else:\n",
    "    print(data3)"
   ]
  },
  {
   "cell_type": "code",
   "execution_count": null,
   "id": "87fdaae1",
   "metadata": {},
   "outputs": [
    {
     "name": "stdout",
     "output_type": "stream",
     "text": [
      "A\n"
     ]
    }
   ],
   "source": [
    "data = int(input('data?'))\n",
    "\n",
    "if data >= 81 and data <= 100:\n",
    "    print('A')\n",
    "elif data >= 61 and data <= 80:\n",
    "    print('B')\n",
    "else:\n",
    "    print('C')\n",
    "    "
   ]
  },
  {
   "cell_type": "code",
   "execution_count": null,
   "id": "dd301d86",
   "metadata": {},
   "outputs": [
    {
     "name": "stdout",
     "output_type": "stream",
     "text": [
      "92\n",
      "1\n"
     ]
    }
   ],
   "source": [
    "#list \n",
    "# 주민번호 입력받아 앞 두자리 출력\n",
    "\n",
    "data = input('ID Number?')\n",
    "print (data[0:2])\n",
    "\n",
    "# 주민번호 입력받아 뒷자리 맨 앞자리 출력\n",
    "\n",
    "\n",
    "#print (data[7])\n",
    "data_list = data.split('-')\n",
    "print(data_list[1][0]) # 뒷자리 맨 앞자리 출력"
   ]
  },
  {
   "cell_type": "code",
   "execution_count": null,
   "id": "6d36ff40",
   "metadata": {},
   "outputs": [
    {
     "name": "stdout",
     "output_type": "stream",
     "text": [
      "F\n"
     ]
    }
   ],
   "source": [
    "# 주민번호 입력받아 여자인지 남자인지 출력\n",
    "\n",
    "data = input('ID Number?')\n",
    "if data[7] == '1':\n",
    "    print('M')\n",
    "else:\n",
    "    print('F')"
   ]
  },
  {
   "cell_type": "code",
   "execution_count": null,
   "id": "6694c7fb",
   "metadata": {},
   "outputs": [
    {
     "name": "stdout",
     "output_type": "stream",
     "text": [
      "python is easy\n"
     ]
    }
   ],
   "source": [
    "strip = 'python is easy????????'\n",
    "\n",
    "print(strip.strip('?'))"
   ]
  },
  {
   "cell_type": "code",
   "execution_count": null,
   "id": "3daa20ec",
   "metadata": {},
   "outputs": [
    {
     "name": "stdout",
     "output_type": "stream",
     "text": [
      "y h\n"
     ]
    }
   ],
   "source": [
    "letters = 'python'\n",
    "\n",
    "print(letters[1], letters[3])"
   ]
  },
  {
   "cell_type": "code",
   "execution_count": null,
   "id": "26e06275",
   "metadata": {},
   "outputs": [
    {
     "name": "stdout",
     "output_type": "stream",
     "text": [
      "-1\n"
     ]
    }
   ],
   "source": [
    "letters = input()\n",
    "\n",
    "var = letters.find('n')\n",
    "\n",
    "if var >= 0:\n",
    "    print(0)\n",
    "else:\n",
    "    print(-1)"
   ]
  },
  {
   "cell_type": "code",
   "execution_count": null,
   "id": "ffd048dd",
   "metadata": {},
   "outputs": [
    {
     "name": "stdout",
     "output_type": "stream",
     "text": [
      "there is n\n"
     ]
    }
   ],
   "source": [
    "letters = input()\n",
    "\n",
    "var = letters.find('n')\n",
    "\n",
    "if var >= 0:\n",
    "    print('there is n')\n",
    "else:\n",
    "    print('there is no n')"
   ]
  },
  {
   "cell_type": "code",
   "execution_count": null,
   "id": "5d2bea9b",
   "metadata": {},
   "outputs": [
    {
     "name": "stdout",
     "output_type": "stream",
     "text": [
      "서울\n"
     ]
    }
   ],
   "source": [
    "data = input()\n",
    "location = int(data[8:10])\n",
    "\n",
    "if location >=0 and location <=8:\n",
    "    print('서울')\n",
    "else:\n",
    "    print('부산') "
   ]
  },
  {
   "cell_type": "code",
   "execution_count": null,
   "id": "97953674",
   "metadata": {},
   "outputs": [
    {
     "data": {
      "text/plain": [
       "['grace', ' Grace', ' Eunhye']"
      ]
     },
     "execution_count": 69,
     "metadata": {},
     "output_type": "execute_result"
    }
   ],
   "source": [
    "letters = 'grace, Grace, Eunhye'\n",
    "letters.split(',')"
   ]
  },
  {
   "cell_type": "code",
   "execution_count": null,
   "id": "be536ad5",
   "metadata": {},
   "outputs": [
    {
     "name": "stdout",
     "output_type": "stream",
     "text": [
      "grace\n"
     ]
    }
   ],
   "source": [
    "filename = 'grace.jpg'\n",
    "filelist = filename.split('.')\n",
    "print(filelist[0])"
   ]
  },
  {
   "cell_type": "markdown",
   "id": "39093f3b",
   "metadata": {},
   "source": [
    "[반복문]"
   ]
  },
  {
   "cell_type": "code",
   "execution_count": null,
   "id": "3636eaab",
   "metadata": {},
   "outputs": [
    {
     "name": "stdout",
     "output_type": "stream",
     "text": [
      "hello python\n",
      "hello python\n",
      "hello python\n",
      "hello python\n",
      "hello python\n",
      "hello python\n",
      "hello python\n",
      "hello python\n",
      "hello python\n",
      "hello python\n",
      "hello python\n",
      "hello python\n",
      "hello python\n",
      "hello python\n",
      "hello python\n",
      "hello python\n",
      "hello python\n",
      "hello python\n",
      "hello python\n",
      "hello python\n"
     ]
    }
   ],
   "source": [
    "for index in range(20):\n",
    "    print('hello python')"
   ]
  },
  {
   "cell_type": "code",
   "execution_count": null,
   "id": "f75d611c",
   "metadata": {},
   "outputs": [
    {
     "name": "stdout",
     "output_type": "stream",
     "text": [
      "1\n",
      "2\n",
      "3\n",
      "4\n",
      "5\n"
     ]
    }
   ],
   "source": [
    "data_list = [1, 2, 3, 4, 5]\n",
    "\n",
    "for i in data_list:\n",
    "    print(i)"
   ]
  },
  {
   "cell_type": "code",
   "execution_count": null,
   "id": "9d9b1d15",
   "metadata": {},
   "outputs": [
    {
     "name": "stdout",
     "output_type": "stream",
     "text": [
      "1\n",
      "2\n",
      "3\n",
      "4\n",
      "5\n",
      "6\n",
      "7\n",
      "8\n",
      "9\n",
      "10\n"
     ]
    }
   ],
   "source": [
    "for index in range(1, 11): # start 1\n",
    "    print(index) # 1~10까지 출력"
   ]
  },
  {
   "cell_type": "code",
   "execution_count": null,
   "id": "cad00991",
   "metadata": {},
   "outputs": [
    {
     "name": "stdout",
     "output_type": "stream",
     "text": [
      "55\n"
     ]
    }
   ],
   "source": [
    "sum = 0\n",
    "for index in range(1, 11):\n",
    "    sum += index \n",
    "print(sum)"
   ]
  },
  {
   "cell_type": "code",
   "execution_count": null,
   "id": "2a8b8320",
   "metadata": {},
   "outputs": [
    {
     "name": "stdout",
     "output_type": "stream",
     "text": [
      "0\n",
      "1\n",
      "2\n",
      "3\n"
     ]
    }
   ],
   "source": [
    "# while\n",
    "\n",
    "i = 0\n",
    "while i <=3:\n",
    "    print(i)\n",
    "    i = i+1 "
   ]
  },
  {
   "cell_type": "code",
   "execution_count": null,
   "id": "4e366b68",
   "metadata": {},
   "outputs": [
    {
     "name": "stdout",
     "output_type": "stream",
     "text": [
      "hi, kong\n",
      "hi, ww\n",
      "hi, grace\n"
     ]
    }
   ],
   "source": [
    "name = ''\n",
    "while name != 'grace':\n",
    "    name = input('name?')\n",
    "    print('hi, ' + name)"
   ]
  },
  {
   "cell_type": "markdown",
   "id": "70fa3500",
   "metadata": {},
   "source": [
    "practice"
   ]
  },
  {
   "cell_type": "code",
   "execution_count": null,
   "id": "19b4ec42",
   "metadata": {},
   "outputs": [
    {
     "name": "stdout",
     "output_type": "stream",
     "text": [
      "1\n",
      "3\n",
      "6\n",
      "10\n",
      "15\n",
      "21\n",
      "28\n",
      "36\n",
      "45\n",
      "55\n"
     ]
    }
   ],
   "source": [
    "sum = 0\n",
    "\n",
    "for i in range(1, 11):\n",
    "    sum = sum + i \n",
    "    print (sum)"
   ]
  },
  {
   "cell_type": "code",
   "execution_count": null,
   "id": "30b75fed",
   "metadata": {},
   "outputs": [
    {
     "name": "stdout",
     "output_type": "stream",
     "text": [
      "8 X 1 = 8\n",
      "8 X 2 = 16\n",
      "8 X 3 = 24\n",
      "8 X 4 = 32\n",
      "8 X 5 = 40\n",
      "8 X 6 = 48\n",
      "8 X 7 = 56\n",
      "8 X 8 = 64\n",
      "8 X 9 = 72\n"
     ]
    }
   ],
   "source": [
    "# 조건문, 반복문 응용\n",
    "\n",
    "data = int(input())\n",
    "\n",
    "if data >=2 and data <=9:\n",
    "    for digit in range(1, 10):\n",
    "        print(data, \"X\", digit, \"=\" , data * digit)\n"
   ]
  },
  {
   "cell_type": "code",
   "execution_count": null,
   "id": "5ffd9843",
   "metadata": {},
   "outputs": [
    {
     "name": "stdout",
     "output_type": "stream",
     "text": [
      "dave\n",
      " grace\n",
      " kong\n"
     ]
    }
   ],
   "source": [
    "data = input() \n",
    "\n",
    "data_list = data.split(\",\")\n",
    "\n",
    "for str_data in data_list:\n",
    "    print(str_data)"
   ]
  },
  {
   "cell_type": "code",
   "execution_count": null,
   "id": "359d3610",
   "metadata": {},
   "outputs": [
    {
     "name": "stdout",
     "output_type": "stream",
     "text": [
      "grace\n",
      "eunhye\n",
      "jane\n"
     ]
    }
   ],
   "source": [
    "data = \"[grace],[eunhye],[jane]\"\n",
    "\n",
    "for str_data in data.split(\",\"):\n",
    "    print(str_data[1:-1])"
   ]
  },
  {
   "cell_type": "code",
   "execution_count": null,
   "id": "a3279f43",
   "metadata": {},
   "outputs": [
    {
     "name": "stdout",
     "output_type": "stream",
     "text": [
      "3\n",
      "6\n",
      "9\n",
      "12\n",
      "15\n",
      "18\n",
      "21\n",
      "24\n",
      "27\n",
      "30\n"
     ]
    }
   ],
   "source": [
    "# 1~30까지 3의 배수 출력\n",
    "for data in range(1, 31):\n",
    "    if data % 3 ==0:\n",
    "        print(data)\n",
    "     "
   ]
  },
  {
   "cell_type": "code",
   "execution_count": null,
   "id": "39ff14f0",
   "metadata": {},
   "outputs": [
    {
     "name": "stdout",
     "output_type": "stream",
     "text": [
      "5050\n"
     ]
    }
   ],
   "source": [
    "sum = 0 \n",
    "\n",
    "index = 1\n",
    "while index <=100: \n",
    "    sum = sum + index \n",
    "    index = index + 1 \n",
    "print(sum)"
   ]
  },
  {
   "cell_type": "code",
   "execution_count": null,
   "id": "eb5978e4",
   "metadata": {},
   "outputs": [
    {
     "name": "stdout",
     "output_type": "stream",
     "text": [
      "wrong password\n",
      "login success\n"
     ]
    }
   ],
   "source": [
    "data = input()\n",
    "\n",
    "while data != '4312':\n",
    "    print('wrong password')\n",
    "    data = input()\n",
    "print('login success')"
   ]
  },
  {
   "cell_type": "code",
   "execution_count": null,
   "id": "1fe9ae76",
   "metadata": {},
   "outputs": [
    {
     "name": "stdout",
     "output_type": "stream",
     "text": [
      "[1, 2, 3]\n"
     ]
    }
   ],
   "source": [
    "num_list = [1,2,3, -11, -22, -33]\n",
    "\n",
    "plus_list = list() \n",
    "\n",
    "for num in num_list:\n",
    "    if num >= 0:\n",
    "        plus_list.append(num) # append는 리스트에 추가하는 함수\n",
    "        \n",
    "print(plus_list)"
   ]
  },
  {
   "cell_type": "code",
   "execution_count": null,
   "id": "c0a090d7",
   "metadata": {},
   "outputs": [
    {
     "name": "stdout",
     "output_type": "stream",
     "text": [
      "10\n",
      "9\n",
      "8\n",
      "7\n",
      "6\n",
      "5\n",
      "4\n",
      "3\n",
      "2\n",
      "1\n"
     ]
    }
   ],
   "source": [
    "data = [1,2,3,4,5,6,7,8,9,10]\n",
    "\n",
    "data.reverse()\n",
    "\n",
    "for item in data:\n",
    "    print(item)"
   ]
  },
  {
   "cell_type": "code",
   "execution_count": null,
   "id": "75d9299e",
   "metadata": {},
   "outputs": [
    {
     "name": "stdout",
     "output_type": "stream",
     "text": [
      "exercise01\n",
      "exercise02\n",
      "exercise03\n",
      "exercise04\n"
     ]
    }
   ],
   "source": [
    "filelist = ['exercise01.docx', 'exercise02.docx', 'exercise03.docx', 'exercise04.docx']\n",
    "\n",
    "for filename in filelist:\n",
    "    print (filename.split('.')[0])"
   ]
  },
  {
   "cell_type": "code",
   "execution_count": null,
   "id": "db931843",
   "metadata": {},
   "outputs": [
    {
     "name": "stdout",
     "output_type": "stream",
     "text": [
      "exercise02.txt\n"
     ]
    }
   ],
   "source": [
    "filelist = ['exercise01.csv', 'exercise02.txt', 'exercise03.hwp', 'exercise04.docx']\n",
    "\n",
    "for filename in filelist:\n",
    "    if filename.split('.')[1] == 'txt':\n",
    "        print(filename)"
   ]
  },
  {
   "cell_type": "markdown",
   "id": "1fbd4db1",
   "metadata": {},
   "source": [
    "function "
   ]
  },
  {
   "cell_type": "code",
   "execution_count": null,
   "id": "f7057b9a",
   "metadata": {},
   "outputs": [
    {
     "name": "stdout",
     "output_type": "stream",
     "text": [
      "hello\n"
     ]
    }
   ],
   "source": [
    "def func1 ():\n",
    "    print('hello') # 함수 정의\n",
    "    \n",
    "func1() # 함수 호출"
   ]
  },
  {
   "cell_type": "code",
   "execution_count": null,
   "id": "d170c44b",
   "metadata": {},
   "outputs": [
    {
     "name": "stdout",
     "output_type": "stream",
     "text": [
      "Hello grace\n",
      "Hello eunhye\n"
     ]
    }
   ],
   "source": [
    "def func1 (parameter1, parameter2):\n",
    "    print('Hello', parameter1)\n",
    "    print('Hello', parameter2)\n",
    "    \n",
    "func1('grace', 'eunhye')"
   ]
  },
  {
   "cell_type": "code",
   "execution_count": null,
   "id": "856f43fb",
   "metadata": {},
   "outputs": [
    {
     "name": "stdout",
     "output_type": "stream",
     "text": [
      "3\n"
     ]
    }
   ],
   "source": [
    "def func1 (data1, data2):\n",
    "    return data1 + data2\n",
    "\n",
    "y = func1(1,2)\n",
    "print(y)"
   ]
  },
  {
   "cell_type": "code",
   "execution_count": null,
   "id": "3fd98db5",
   "metadata": {},
   "outputs": [
    {
     "name": "stdout",
     "output_type": "stream",
     "text": [
      "5\n"
     ]
    }
   ],
   "source": [
    "def awe_sum(a,b):\n",
    "    # local variable\n",
    "    c= 1\n",
    "    result = a + b\n",
    "    return result\n",
    "\n",
    "# global variable\n",
    "a = 1\n",
    "print(awe_sum(2,3))"
   ]
  },
  {
   "cell_type": "code",
   "execution_count": null,
   "id": "9b7c947d",
   "metadata": {},
   "outputs": [
    {
     "name": "stdout",
     "output_type": "stream",
     "text": [
      "hello\n"
     ]
    }
   ],
   "source": [
    "def print_hello():\n",
    "    return 'hello'\n",
    "\n",
    "result_hello = print_hello()\n",
    "print(result_hello)"
   ]
  },
  {
   "cell_type": "code",
   "execution_count": 122,
   "id": "a62ca454",
   "metadata": {},
   "outputs": [
    {
     "data": {
      "text/plain": [
       "(10, 11)"
      ]
     },
     "execution_count": 122,
     "metadata": {},
     "output_type": "execute_result"
    }
   ],
   "source": [
    "def mul_return(a):\n",
    "    b = a + 1\n",
    "    return a, b\n",
    "\n",
    "mul_return(10)\n",
    "    "
   ]
  },
  {
   "cell_type": "code",
   "execution_count": 123,
   "id": "23a3fc5b",
   "metadata": {},
   "outputs": [],
   "source": [
    "def id_check(id):\n",
    "    if id == \"admin\":\n",
    "        print('invalid id: admin')\n",
    "        return\n",
    "    print('valid id', id)"
   ]
  },
  {
   "cell_type": "markdown",
   "id": "fc50e79d",
   "metadata": {},
   "source": [
    "데이터 구조 (Tuple)\n",
    ": 리스트, 튜플, 딕셔너리, 집합\n",
    "\n",
    "- 튜플은 괄호를 이용해 선언 \n",
    "  tuple1=(1,2,3,4)\n",
    "- 삭제, 추가 x \n",
    "- tuple 끼지 더하거나 반복 가능 "
   ]
  },
  {
   "cell_type": "code",
   "execution_count": null,
   "id": "2e2d2dfb",
   "metadata": {},
   "outputs": [
    {
     "name": "stdout",
     "output_type": "stream",
     "text": [
      "1\n"
     ]
    }
   ],
   "source": [
    "# 데이터 읽기 : 변수명[인덱스번호]\n",
    "data = (1,2,3)\n",
    "\n",
    "print(data[0])\n"
   ]
  },
  {
   "cell_type": "code",
   "execution_count": 127,
   "id": "fd602034",
   "metadata": {},
   "outputs": [
    {
     "data": {
      "text/plain": [
       "(1, 2, 3, 4, 5, 6)"
      ]
     },
     "execution_count": 127,
     "metadata": {},
     "output_type": "execute_result"
    }
   ],
   "source": [
    "data1 = (1,2,3)\n",
    "data2 = (4,5,6)\n",
    "\n",
    "data = data1 + data2\n",
    "data"
   ]
  },
  {
   "cell_type": "code",
   "execution_count": 128,
   "id": "c1f43050",
   "metadata": {},
   "outputs": [
    {
     "data": {
      "text/plain": [
       "(1, 2, 3, 1, 2, 3, 1, 2, 3)"
      ]
     },
     "execution_count": 128,
     "metadata": {},
     "output_type": "execute_result"
    }
   ],
   "source": [
    "data1*3"
   ]
  },
  {
   "cell_type": "code",
   "execution_count": null,
   "id": "a4244062",
   "metadata": {},
   "outputs": [
    {
     "data": {
      "text/plain": [
       "2"
      ]
     },
     "execution_count": 129,
     "metadata": {},
     "output_type": "execute_result"
    }
   ],
   "source": [
    "x = 1\n",
    "y = 2\n",
    "\n",
    "''' temp = x\n",
    "x = y\n",
    "y = temp\n",
    "\n",
    "x '''"
   ]
  },
  {
   "cell_type": "code",
   "execution_count": 133,
   "id": "40ec3297",
   "metadata": {},
   "outputs": [],
   "source": [
    "# tuple\n",
    "x = 1\n",
    "y = 2\n",
    "\n",
    "x, y = y, x"
   ]
  },
  {
   "cell_type": "code",
   "execution_count": 134,
   "id": "ea603fd2",
   "metadata": {},
   "outputs": [
    {
     "data": {
      "text/plain": [
       "2"
      ]
     },
     "execution_count": 134,
     "metadata": {},
     "output_type": "execute_result"
    }
   ],
   "source": [
    "x"
   ]
  },
  {
   "cell_type": "code",
   "execution_count": 135,
   "id": "ad59f0b8",
   "metadata": {},
   "outputs": [
    {
     "data": {
      "text/plain": [
       "2"
      ]
     },
     "execution_count": 135,
     "metadata": {},
     "output_type": "execute_result"
    }
   ],
   "source": [
    "def quot_and_rem(a,b):\n",
    "    quot = a // b\n",
    "    rem = a % b\n",
    "    return quot, rem\n",
    "\n",
    "quot, rem = quot_and_rem(5,2)\n",
    "\n",
    "quot"
   ]
  },
  {
   "cell_type": "code",
   "execution_count": 136,
   "id": "62e4c63d",
   "metadata": {},
   "outputs": [
    {
     "data": {
      "text/plain": [
       "1"
      ]
     },
     "execution_count": 136,
     "metadata": {},
     "output_type": "execute_result"
    }
   ],
   "source": [
    "rem"
   ]
  },
  {
   "cell_type": "markdown",
   "id": "c08d9646",
   "metadata": {},
   "source": [
    "Dictionary \n",
    "\n",
    "* 선언 + 입력: 변수명 = {} 또는 dic(), 초기값과 함께 선언 , 변수명 = {키:값, 키:값}\n",
    "* 읽기: 변수명[키]\n",
    "* 추가: 변수명[새로운키] = 새로운값"
   ]
  },
  {
   "cell_type": "code",
   "execution_count": 137,
   "id": "8c90fd3b",
   "metadata": {},
   "outputs": [],
   "source": [
    "data_list = list() \n",
    "data_tuple = tuple()\n",
    "data_dict = dict()"
   ]
  },
  {
   "cell_type": "code",
   "execution_count": 147,
   "id": "33a30e39",
   "metadata": {},
   "outputs": [],
   "source": [
    "data_dict = {'한국': 'KOR', '미국': 'USA', '일본': 'JPN'}"
   ]
  },
  {
   "cell_type": "code",
   "execution_count": 148,
   "id": "5ec9f09f",
   "metadata": {},
   "outputs": [
    {
     "data": {
      "text/plain": [
       "'KOR'"
      ]
     },
     "execution_count": 148,
     "metadata": {},
     "output_type": "execute_result"
    }
   ],
   "source": [
    "data_dict['한국']"
   ]
  },
  {
   "cell_type": "code",
   "execution_count": 149,
   "id": "d280f522",
   "metadata": {},
   "outputs": [
    {
     "data": {
      "text/plain": [
       "{'한국': 'KOR', '미국': 'USA', '일본': 'JPN', '중국': 'CHN'}"
      ]
     },
     "execution_count": 149,
     "metadata": {},
     "output_type": "execute_result"
    }
   ],
   "source": [
    "data_dict['중국'] = 'CHN'\n",
    "\n",
    "data_dict"
   ]
  },
  {
   "cell_type": "code",
   "execution_count": 150,
   "id": "c64a6322",
   "metadata": {},
   "outputs": [],
   "source": [
    "# delete\n",
    "\n",
    "del data_dict['미국']"
   ]
  },
  {
   "cell_type": "code",
   "execution_count": 151,
   "id": "6506ebca",
   "metadata": {},
   "outputs": [
    {
     "data": {
      "text/plain": [
       "{'한국': 'KOR', '일본': 'JPN', '중국': 'CHN'}"
      ]
     },
     "execution_count": 151,
     "metadata": {},
     "output_type": "execute_result"
    }
   ],
   "source": [
    "data_dict"
   ]
  },
  {
   "cell_type": "code",
   "execution_count": 152,
   "id": "cdb9992b",
   "metadata": {},
   "outputs": [],
   "source": [
    "data_dict['일본'] = 'JP'"
   ]
  },
  {
   "cell_type": "code",
   "execution_count": 153,
   "id": "64dbfac7",
   "metadata": {},
   "outputs": [
    {
     "data": {
      "text/plain": [
       "{'한국': 'KOR', '일본': 'JP', '중국': 'CHN'}"
      ]
     },
     "execution_count": 153,
     "metadata": {},
     "output_type": "execute_result"
    }
   ],
   "source": [
    "data_dict"
   ]
  },
  {
   "cell_type": "code",
   "execution_count": 154,
   "id": "5e57df90",
   "metadata": {},
   "outputs": [
    {
     "data": {
      "text/plain": [
       "dict_keys(['한국', '일본', '중국'])"
      ]
     },
     "execution_count": 154,
     "metadata": {},
     "output_type": "execute_result"
    }
   ],
   "source": [
    "data_dict.keys()"
   ]
  },
  {
   "cell_type": "code",
   "execution_count": 155,
   "id": "b74d4625",
   "metadata": {},
   "outputs": [
    {
     "name": "stdout",
     "output_type": "stream",
     "text": [
      "한국\n",
      "일본\n",
      "중국\n"
     ]
    }
   ],
   "source": [
    "for keys in data_dict.keys():\n",
    "    print(keys)"
   ]
  },
  {
   "cell_type": "code",
   "execution_count": 156,
   "id": "f6f31caf",
   "metadata": {},
   "outputs": [
    {
     "data": {
      "text/plain": [
       "dict_values(['KOR', 'JP', 'CHN'])"
      ]
     },
     "execution_count": 156,
     "metadata": {},
     "output_type": "execute_result"
    }
   ],
   "source": [
    "data_dict.values()"
   ]
  },
  {
   "cell_type": "code",
   "execution_count": 157,
   "id": "7d639aed",
   "metadata": {},
   "outputs": [
    {
     "data": {
      "text/plain": [
       "dict_items([('한국', 'KOR'), ('일본', 'JP'), ('중국', 'CHN')])"
      ]
     },
     "execution_count": 157,
     "metadata": {},
     "output_type": "execute_result"
    }
   ],
   "source": [
    "data_dict.items()"
   ]
  },
  {
   "cell_type": "code",
   "execution_count": 158,
   "id": "d4765754",
   "metadata": {},
   "outputs": [
    {
     "name": "stdout",
     "output_type": "stream",
     "text": [
      "('한국', 'KOR')\n",
      "('일본', 'JP')\n",
      "('중국', 'CHN')\n"
     ]
    }
   ],
   "source": [
    "for data in data_dict.items():\n",
    "    print(data)"
   ]
  },
  {
   "cell_type": "markdown",
   "id": "876c1617",
   "metadata": {},
   "source": [
    "set (집합)"
   ]
  },
  {
   "cell_type": "code",
   "execution_count": 159,
   "id": "887f1ef4",
   "metadata": {},
   "outputs": [],
   "source": [
    "data_set = set()"
   ]
  },
  {
   "cell_type": "code",
   "execution_count": 166,
   "id": "32fe4259",
   "metadata": {},
   "outputs": [
    {
     "data": {
      "text/plain": [
       "set"
      ]
     },
     "execution_count": 166,
     "metadata": {},
     "output_type": "execute_result"
    }
   ],
   "source": [
    "data_set = {'apple', 'banana', 'grape'}\n",
    "type(data_set)"
   ]
  },
  {
   "cell_type": "code",
   "execution_count": 164,
   "id": "c40fb298",
   "metadata": {},
   "outputs": [],
   "source": [
    "#data_set = set('hello') # data 1개 일때 "
   ]
  },
  {
   "cell_type": "code",
   "execution_count": 167,
   "id": "fd662eac",
   "metadata": {},
   "outputs": [
    {
     "name": "stdout",
     "output_type": "stream",
     "text": [
      "apple\n",
      "banana\n",
      "grape\n"
     ]
    }
   ],
   "source": [
    "# read\n",
    "\n",
    "for data in data_set:\n",
    "    print(data) "
   ]
  },
  {
   "cell_type": "code",
   "execution_count": 168,
   "id": "0e83dc69",
   "metadata": {},
   "outputs": [
    {
     "data": {
      "text/plain": [
       "False"
      ]
     },
     "execution_count": 168,
     "metadata": {},
     "output_type": "execute_result"
    }
   ],
   "source": [
    "'orange' in data_set"
   ]
  },
  {
   "cell_type": "code",
   "execution_count": 169,
   "id": "f84fbbef",
   "metadata": {},
   "outputs": [
    {
     "data": {
      "text/plain": [
       "{'apple'}"
      ]
     },
     "execution_count": 169,
     "metadata": {},
     "output_type": "execute_result"
    }
   ],
   "source": [
    "data1 = {'apple', 'banana', 'grape'}\n",
    "data2 = {'potato', 'tomato', 'carrot', 'apple'}\n",
    "\n",
    "data1 & data2 # 교집합"
   ]
  },
  {
   "cell_type": "code",
   "execution_count": 170,
   "id": "006d39e1",
   "metadata": {},
   "outputs": [
    {
     "data": {
      "text/plain": [
       "{'apple', 'banana', 'carrot', 'grape', 'potato', 'tomato'}"
      ]
     },
     "execution_count": 170,
     "metadata": {},
     "output_type": "execute_result"
    }
   ],
   "source": [
    "data1 | data2 # 합집합"
   ]
  },
  {
   "cell_type": "code",
   "execution_count": 171,
   "id": "c87e161e",
   "metadata": {},
   "outputs": [
    {
     "data": {
      "text/plain": [
       "{'banana', 'grape'}"
      ]
     },
     "execution_count": 171,
     "metadata": {},
     "output_type": "execute_result"
    }
   ],
   "source": [
    "data1 - data2 # 차집합"
   ]
  },
  {
   "cell_type": "code",
   "execution_count": 172,
   "id": "1d970f62",
   "metadata": {},
   "outputs": [
    {
     "data": {
      "text/plain": [
       "{'banana', 'carrot', 'grape', 'potato', 'tomato'}"
      ]
     },
     "execution_count": 172,
     "metadata": {},
     "output_type": "execute_result"
    }
   ],
   "source": [
    "data1 ^ data2 # 대칭 차집합"
   ]
  },
  {
   "cell_type": "markdown",
   "id": "3d9cf24a",
   "metadata": {},
   "source": [
    "practice"
   ]
  },
  {
   "cell_type": "code",
   "execution_count": 173,
   "id": "b0e6cb29",
   "metadata": {},
   "outputs": [
    {
     "name": "stdout",
     "output_type": "stream",
     "text": [
      "111200 won\n"
     ]
    }
   ],
   "source": [
    "prices = input()\n",
    "\n",
    "if prices[4:] == 'dollar':\n",
    "    print(int(prices[:4]) * 1112, 'won')\n",
    "\n"
   ]
  },
  {
   "cell_type": "code",
   "execution_count": 177,
   "id": "ed06547e",
   "metadata": {},
   "outputs": [
    {
     "name": "stdout",
     "output_type": "stream",
     "text": [
      "17100 won\n"
     ]
    }
   ],
   "source": [
    "prices = '100 yen'\n",
    "\n",
    "if prices[4:] == 'dollar':\n",
    "    print(int(prices[:4]) * 1112, 'won')\n",
    "elif prices[4:] == 'yen':\n",
    "    print(int(prices[:4]) * 171, 'won')"
   ]
  },
  {
   "cell_type": "code",
   "execution_count": null,
   "id": "35e47b0c",
   "metadata": {},
   "outputs": [
    {
     "name": "stdout",
     "output_type": "stream",
     "text": [
      "17100 won\n"
     ]
    }
   ],
   "source": [
    "currency = {'dollar': 1112, 'yen': 171} # dictionary\n",
    "prices = input()\n",
    "for currency_item in currency.keys():\n",
    "    if prices[4:] == currency_item:\n",
    "        print(int(prices[:4]) * currency[currency_item], 'won')"
   ]
  },
  {
   "cell_type": "code",
   "execution_count": 184,
   "id": "1c30628b",
   "metadata": {},
   "outputs": [
    {
     "name": "stdout",
     "output_type": "stream",
     "text": [
      "2 X 1 = 2\n",
      "2 X 2 = 4\n",
      "2 X 3 = 6\n",
      "2 X 4 = 8\n",
      "2 X 5 = 10\n",
      "2 X 6 = 12\n",
      "2 X 7 = 14\n",
      "2 X 8 = 16\n",
      "2 X 9 = 18\n",
      "3 X 1 = 3\n",
      "3 X 2 = 6\n",
      "3 X 3 = 9\n",
      "3 X 4 = 12\n",
      "3 X 5 = 15\n",
      "3 X 6 = 18\n",
      "3 X 7 = 21\n",
      "3 X 8 = 24\n",
      "3 X 9 = 27\n",
      "4 X 1 = 4\n",
      "4 X 2 = 8\n",
      "4 X 3 = 12\n",
      "4 X 4 = 16\n",
      "4 X 5 = 20\n",
      "4 X 6 = 24\n",
      "4 X 7 = 28\n",
      "4 X 8 = 32\n",
      "4 X 9 = 36\n",
      "5 X 1 = 5\n",
      "5 X 2 = 10\n",
      "5 X 3 = 15\n",
      "5 X 4 = 20\n",
      "5 X 5 = 25\n",
      "5 X 6 = 30\n",
      "5 X 7 = 35\n",
      "5 X 8 = 40\n",
      "5 X 9 = 45\n",
      "6 X 1 = 6\n",
      "6 X 2 = 12\n",
      "6 X 3 = 18\n",
      "6 X 4 = 24\n",
      "6 X 5 = 30\n",
      "6 X 6 = 36\n",
      "6 X 7 = 42\n",
      "6 X 8 = 48\n",
      "6 X 9 = 54\n",
      "7 X 1 = 7\n",
      "7 X 2 = 14\n",
      "7 X 3 = 21\n",
      "7 X 4 = 28\n",
      "7 X 5 = 35\n",
      "7 X 6 = 42\n",
      "7 X 7 = 49\n",
      "7 X 8 = 56\n",
      "7 X 9 = 63\n",
      "8 X 1 = 8\n",
      "8 X 2 = 16\n",
      "8 X 3 = 24\n",
      "8 X 4 = 32\n",
      "8 X 5 = 40\n",
      "8 X 6 = 48\n",
      "8 X 7 = 56\n",
      "8 X 8 = 64\n",
      "8 X 9 = 72\n",
      "9 X 1 = 9\n",
      "9 X 2 = 18\n",
      "9 X 3 = 27\n",
      "9 X 4 = 36\n",
      "9 X 5 = 45\n",
      "9 X 6 = 54\n",
      "9 X 7 = 63\n",
      "9 X 8 = 72\n",
      "9 X 9 = 81\n"
     ]
    }
   ],
   "source": [
    "for index in range(2, 10):\n",
    "    for index2 in range(1,10):\n",
    "        print (index, \"X\", index2, \"=\" , index * index2)"
   ]
  },
  {
   "cell_type": "code",
   "execution_count": 185,
   "id": "58837728",
   "metadata": {},
   "outputs": [
    {
     "name": "stdout",
     "output_type": "stream",
     "text": [
      "2 X 1 = 2\n",
      "2 X 2 = 4\n",
      "2 X 3 = 6\n",
      "2 X 4 = 8\n",
      "2 X 5 = 10\n",
      "2 X 6 = 12\n",
      "2 X 7 = 14\n",
      "2 X 8 = 16\n",
      "2 X 9 = 18\n",
      "3 X 2 = 6\n",
      "3 X 4 = 12\n",
      "3 X 6 = 18\n",
      "3 X 8 = 24\n",
      "4 X 1 = 4\n",
      "4 X 2 = 8\n",
      "4 X 3 = 12\n",
      "4 X 4 = 16\n",
      "4 X 5 = 20\n",
      "4 X 6 = 24\n",
      "4 X 7 = 28\n",
      "4 X 8 = 32\n",
      "4 X 9 = 36\n",
      "5 X 2 = 10\n",
      "5 X 4 = 20\n",
      "5 X 6 = 30\n",
      "5 X 8 = 40\n",
      "6 X 1 = 6\n",
      "6 X 2 = 12\n",
      "6 X 3 = 18\n",
      "6 X 4 = 24\n",
      "6 X 5 = 30\n",
      "6 X 6 = 36\n",
      "6 X 7 = 42\n",
      "6 X 8 = 48\n",
      "6 X 9 = 54\n",
      "7 X 2 = 14\n",
      "7 X 4 = 28\n",
      "7 X 6 = 42\n",
      "7 X 8 = 56\n",
      "8 X 1 = 8\n",
      "8 X 2 = 16\n",
      "8 X 3 = 24\n",
      "8 X 4 = 32\n",
      "8 X 5 = 40\n",
      "8 X 6 = 48\n",
      "8 X 7 = 56\n",
      "8 X 8 = 64\n",
      "8 X 9 = 72\n",
      "9 X 2 = 18\n",
      "9 X 4 = 36\n",
      "9 X 6 = 54\n",
      "9 X 8 = 72\n"
     ]
    }
   ],
   "source": [
    "for index in range(2, 10):\n",
    "    for index2 in range(1,10):\n",
    "        if(index * index2) % 2 == 0: \n",
    "            print (index, \"X\", index2, \"=\" , index * index2)"
   ]
  },
  {
   "cell_type": "code",
   "execution_count": 187,
   "id": "172b6551",
   "metadata": {},
   "outputs": [
    {
     "name": "stdout",
     "output_type": "stream",
     "text": [
      "101동 101호\n",
      "101동 102호\n",
      "101동 103호\n",
      "101동 104호\n",
      "101동 105호\n",
      "\n",
      "\n",
      "102동 101호\n",
      "102동 102호\n",
      "102동 103호\n",
      "102동 104호\n",
      "102동 105호\n",
      "\n",
      "\n",
      "103동 101호\n",
      "103동 102호\n",
      "103동 103호\n",
      "103동 104호\n",
      "103동 105호\n",
      "\n",
      "\n",
      "104동 101호\n",
      "104동 102호\n",
      "104동 103호\n",
      "104동 104호\n",
      "104동 105호\n",
      "\n",
      "\n",
      "105동 101호\n",
      "105동 102호\n",
      "105동 103호\n",
      "105동 104호\n",
      "105동 105호\n",
      "\n",
      "\n"
     ]
    }
   ],
   "source": [
    "dongs = ['101동', '102동', '103동', '104동', '105동']\n",
    "hos = ['101호', '102호', '103호', '104호', '105호']\n",
    "\n",
    "for dong in dongs:\n",
    "    for ho in hos :\n",
    "        print(dong, ho)\n",
    "    print(\"\\n\")"
   ]
  },
  {
   "cell_type": "code",
   "execution_count": 189,
   "id": "a993f8c8",
   "metadata": {},
   "outputs": [
    {
     "name": "stdout",
     "output_type": "stream",
     "text": [
      "a e\n"
     ]
    }
   ],
   "source": [
    "tuple_data = ('a', 'b', 'c', 'd', 'e')\n",
    "print(tuple_data[0], tuple_data[-1])"
   ]
  },
  {
   "cell_type": "code",
   "execution_count": 191,
   "id": "3a4d4afb",
   "metadata": {},
   "outputs": [
    {
     "data": {
      "text/plain": [
       "('fun2', 'fun3', 'fun4', 'fun5')"
      ]
     },
     "execution_count": 191,
     "metadata": {},
     "output_type": "execute_result"
    }
   ],
   "source": [
    "tupledata = ('fun1', 'fun2', 'fun3', 'fun4', 'fun5')\n",
    "data = list(tupledata)\n",
    "del data[0]\n",
    "tuple(data)"
   ]
  },
  {
   "cell_type": "code",
   "execution_count": 192,
   "id": "6cf9af05",
   "metadata": {},
   "outputs": [
    {
     "data": {
      "text/plain": [
       "('fun1', 'fun2', 'fun3', 'fun4')"
      ]
     },
     "execution_count": 192,
     "metadata": {},
     "output_type": "execute_result"
    }
   ],
   "source": [
    "tupledata = ('fun1', 'fun2', 'fun3')\n",
    "\n",
    "data = list(tupledata)\n",
    "data.append('fun4')\n",
    "tuple(data)"
   ]
  },
  {
   "cell_type": "code",
   "execution_count": 195,
   "id": "d4608b09",
   "metadata": {},
   "outputs": [
    {
     "name": "stdout",
     "output_type": "stream",
     "text": [
      "{'a': 1, 'b': 2, 'c': 3}\n",
      "['a', 'b', 'c']\n",
      "[1, 2, 3]\n"
     ]
    }
   ],
   "source": [
    "data = {'a': 1, 'b': 2, 'c': 3}\n",
    "\n",
    "keys = data.keys()\n",
    "values = data.values()\n",
    "\n",
    "print(data)\n",
    "print(list(keys))\n",
    "print(list(values))"
   ]
  },
  {
   "cell_type": "code",
   "execution_count": 196,
   "id": "b2ca7194",
   "metadata": {},
   "outputs": [
    {
     "name": "stdout",
     "output_type": "stream",
     "text": [
      "a : 1\n",
      "b : 2\n",
      "c : 3\n"
     ]
    }
   ],
   "source": [
    "for item in data.keys():\n",
    "    print(item, \":\", data[item])"
   ]
  },
  {
   "cell_type": "code",
   "execution_count": 200,
   "id": "19ce36c3",
   "metadata": {},
   "outputs": [
    {
     "name": "stdout",
     "output_type": "stream",
     "text": [
      "nature\n"
     ]
    }
   ],
   "source": [
    "data = {'environment': ['환경', '자연', 'X'], 'health': ['건강', '건강함', 'O'], 'nature': ['자연', '자연적', 'X']}\n",
    "\n",
    "english = input()\n",
    "if english in data.keys():\n",
    "    data[english][2] = 'O' \n",
    "\n",
    "\n",
    "for item in data.keys():\n",
    "    data_list = data[item]\n",
    "    if data_list[2] == 'X':\n",
    "        print(item)\n",
    "        \n",
    "        "
   ]
  },
  {
   "cell_type": "code",
   "execution_count": null,
   "id": "d0073ed3",
   "metadata": {},
   "outputs": [],
   "source": []
  }
 ],
 "metadata": {
  "kernelspec": {
   "display_name": "Python 3 (ipykernel)",
   "language": "python",
   "name": "python3"
  },
  "language_info": {
   "codemirror_mode": {
    "name": "ipython",
    "version": 3
   },
   "file_extension": ".py",
   "mimetype": "text/x-python",
   "name": "python",
   "nbconvert_exporter": "python",
   "pygments_lexer": "ipython3",
   "version": "3.9.18"
  }
 },
 "nbformat": 4,
 "nbformat_minor": 5
}
