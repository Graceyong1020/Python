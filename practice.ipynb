{
 "cells": [
  {
   "cell_type": "code",
   "execution_count": 1,
   "id": "a75de8f5-3469-4751-b8d9-e9171970134e",
   "metadata": {},
   "outputs": [
    {
     "name": "stdout",
     "output_type": "stream",
     "text": [
      "hello python\n"
     ]
    }
   ],
   "source": [
    "print ('hello python')"
   ]
  },
  {
   "cell_type": "code",
   "execution_count": 2,
   "id": "7f33bdb2-c747-4322-af10-f7cca0db0bd8",
   "metadata": {},
   "outputs": [
    {
     "name": "stdout",
     "output_type": "stream",
     "text": [
      "10\n",
      "7\n",
      "2.142857142857143\n",
      "3400\n",
      "6\n"
     ]
    }
   ],
   "source": [
    "print(3 + 7)\n",
    "print(10 - 3)\n",
    "print(15 / 7)\n",
    "print(34 * 100)\n",
    "print ((1+1) *3)"
   ]
  },
  {
   "cell_type": "code",
   "execution_count": 3,
   "id": "96cd67c8-667b-42a5-8741-e18e80a4dae8",
   "metadata": {},
   "outputs": [
    {
     "name": "stdout",
     "output_type": "stream",
     "text": [
      "hello python\n",
      "hello 1 1.1 True\n"
     ]
    }
   ],
   "source": [
    "# valiable\n",
    "\n",
    "print('hello python')\n",
    "str_data = 'hello' #string\n",
    "int_data = 1 #integer\n",
    "float_data = 1.1 \n",
    "bool_data = True # Boolean \n",
    "\n",
    "print(str_data, int_data, float_data, bool_data)\n"
   ]
  },
  {
   "cell_type": "code",
   "execution_count": 4,
   "id": "119e00c8-83ff-4b59-b8d2-a9619378db8e",
   "metadata": {},
   "outputs": [
    {
     "name": "stdout",
     "output_type": "stream",
     "text": [
      "19\n",
      "9\n",
      "70\n",
      "2.8\n"
     ]
    }
   ],
   "source": [
    "num1 = 14\n",
    "num2 = 5\n",
    "print(num1 + num2)\n",
    "print(num1 - num2)\n",
    "print(num1 * num2)\n",
    "print(num1 / num2)\n"
   ]
  },
  {
   "cell_type": "code",
   "execution_count": 5,
   "id": "97be9e8d-8100-4a04-99ae-d7e2c36625ee",
   "metadata": {},
   "outputs": [
    {
     "name": "stdout",
     "output_type": "stream",
     "text": [
      "True\n",
      "False\n",
      "True\n",
      "True\n",
      "True\n",
      "False\n",
      "True\n"
     ]
    }
   ],
   "source": [
    "print(3 < 7)\n",
    "print(10 < 3)\n",
    "print(15 > 7)\n",
    "print(3 >= 3)\n",
    "print(3 <= 10)\n",
    "print(34 == 100)\n",
    "print(34 != 100)"
   ]
  },
  {
   "cell_type": "code",
   "execution_count": 6,
   "id": "477ea610-80f4-4d66-a87d-0bb9dce1289a",
   "metadata": {},
   "outputs": [
    {
     "name": "stdout",
     "output_type": "stream",
     "text": [
      "20 62.800000000000004 314.0\n"
     ]
    }
   ],
   "source": [
    "r = 10\n",
    "pi = 3.14\n",
    "\n",
    "diameter = r *2 \n",
    "circumference = 2*pi*r\n",
    "area = pi * (r **2) \n",
    "\n",
    "print(diameter, circumference, area)"
   ]
  },
  {
   "cell_type": "code",
   "execution_count": 7,
   "id": "f7bc27e8-ce5b-415d-8d28-758fe883e0e4",
   "metadata": {},
   "outputs": [
    {
     "data": {
      "text/plain": [
       "12"
      ]
     },
     "execution_count": 7,
     "metadata": {},
     "output_type": "execute_result"
    }
   ],
   "source": [
    "#Type Casting\n",
    "\n",
    "float(3)\n",
    "int(3.6)\n",
    "str(1)\n",
    "int('12') # str -> int "
   ]
  },
  {
   "cell_type": "code",
   "execution_count": 8,
   "id": "bb9c5d57-e1a8-4d0c-9abd-0b8fdd91a671",
   "metadata": {},
   "outputs": [
    {
     "name": "stdout",
     "output_type": "stream",
     "text": [
      "<class 'str'>\n"
     ]
    }
   ],
   "source": [
    "digit_str = '123'\n",
    "print(type(digit_str))"
   ]
  },
  {
   "cell_type": "markdown",
   "id": "3c374167-99e0-41c6-9bb4-8abaccbde72e",
   "metadata": {},
   "source": [
    "\n",
    "[1.String]\n",
    "\n",
    "\n",
    "* input & print"
   ]
  },
  {
   "cell_type": "code",
   "execution_count": 9,
   "id": "9e3c0adb-8c9d-46ad-ace7-0e069f733e25",
   "metadata": {},
   "outputs": [],
   "source": [
    "article= \"\"\"Who is Yoon and why did he impose martial law?\n",
    "On 3 December, the country was stunned when Yoon said he was imposing martial law to protect the country from \"anti-state\" forces that sympathised with North Korea.\n",
    "\n",
    "South Korean politicians immediately called Yoon's declaration illegal and unconstitutional. The leader of his own party, the conservative People's Power Party, also called Yoon's act \"the wrong move\".\n",
    "\n",
    "Meanwhile, the leader of the country's largest opposition party, Lee Jae-myung of the liberal Democratic Party (DP) called on his MPs to converge on parliament to vote down the declaration.\n",
    "\n",
    "He also called on ordinary South Koreans to show up at parliament in protest.\n",
    "\n",
    "Thousands heeded the call, rushing to gather outside the now heavily guarded parliament. Protesters chanted \"no martial law\" and \"strike down dictatorship\".\n",
    "\n",
    "And lawmakers were also able to make their way around the barricades - even climbing fences to make it to the voting chamber.\n",
    "\n",
    "Shortly after 01:00 on Wednesday, South Korea's parliament, with 190 of its 300 members present, voted down the measure. President Yoon's declaration of martial law was ruled invalid.\n",
    "\n",
    "The last time martial law was declared in South Korea was in 1979, when the country's then long-term military dictator Park Chung-hee was assassinated during a coup.\n",
    "\n",
    "It has never been invoked since the country became a parliamentary democracy in 1987.\n",
    "\n",
    "But why did he do it?\n",
    "\n",
    "Yoon was relegated to a lame duck president and reduced to vetoing bills passed by the opposition, a tactic that he used with \"unprecedented frequency\", said Celeste Arrington, director of The George Washington University Institute for Korean Studies.\n",
    "\n",
    "Then on the week on 3 December, the opposition slashed the budget the government and ruling party had put forward.\n",
    "\n",
    "Around the same time, the opposition was moving to impeach cabinet members, mainly the head of the government audit agency, for failing to investigate the president's wife.\n",
    "\n",
    "With political challenges pushing his back against the wall, Yoon went for the nuclear option - pressing the red button of martial law.\"\"\""
   ]
  },
  {
   "cell_type": "code",
   "execution_count": 10,
   "id": "1945e9d4-c813-45c7-9d5d-ffe31ddc6852",
   "metadata": {},
   "outputs": [
    {
     "name": "stdout",
     "output_type": "stream",
     "text": [
      "W\n"
     ]
    }
   ],
   "source": [
    "print(article[0]) # first letter "
   ]
  },
  {
   "cell_type": "code",
   "execution_count": 11,
   "id": "db1d749b-d3f9-4a6e-a1fc-ea2af15ccc13",
   "metadata": {},
   "outputs": [
    {
     "name": "stdout",
     "output_type": "stream",
     "text": [
      "4\n",
      "2111\n",
      "213\n",
      "Who is Y and why did he impose martial law?\n",
      "On 3 December, the country was stunned when Y said he was imposing martial law to protect the country from \"anti-state\" forces that sympathised with North Korea.\n",
      "\n",
      "South Korean politicians immediately called Y's declaration illegal and unconstitutional. The leader of his own party, the conservative People's Power Party, also called Y's act \"the wrong move\".\n",
      "\n",
      "Meanwhile, the leader of the country's largest opposition party, Lee Jae-myung of the liberal Democratic Party (DP) called on his MPs to converge on parliament to vote down the declaration.\n",
      "\n",
      "He also called on ordinary South Koreans to show up at parliament in protest.\n",
      "\n",
      "Thousands heeded the call, rushing to gather outside the now heavily guarded parliament. Protesters chanted \"no martial law\" and \"strike down dictatorship\".\n",
      "\n",
      "And lawmakers were also able to make their way around the barricades - even climbing fences to make it to the voting chamber.\n",
      "\n",
      "Shortly after 01:00 on Wednesday, South Korea's parliament, with 190 of its 300 members present, voted down the measure. President Y's declaration of martial law was ruled invalid.\n",
      "\n",
      "The last time martial law was declared in South Korea was in 1979, when the country's then long-term military dictator Park Chung-hee was assassinated during a coup.\n",
      "\n",
      "It has never been invoked since the country became a parliamentary democracy in 1987.\n",
      "\n",
      "But why did he do it?\n",
      "\n",
      "Y was relegated to a lame duck president and reduced to vetoing bills passed by the opposition, a tactic that he used with \"unprecedented frequency\", said Celeste Arrington, director of The George Washington University Institute for Korean Studies.\n",
      "\n",
      "Then on the week on 3 December, the opposition slashed the budget the government and ruling party had put forward.\n",
      "\n",
      "Around the same time, the opposition was moving to impeach cabinet members, mainly the head of the government audit agency, for failing to investigate the president's wife.\n",
      "\n",
      "With political challenges pushing his back against the wall, Y went for the nuclear option - pressing the red button of martial law.\n"
     ]
    }
   ],
   "source": [
    "print(article.count(\"South\"))\n",
    "print(len(article)) # string count\n",
    "print(article.find(\"S\")) # S가 몇번째에 처음 나오는지 \n",
    "print(article.replace(\"Yoon\", \"Y\"))"
   ]
  },
  {
   "cell_type": "code",
   "execution_count": 12,
   "id": "1c98a3aa-3ad9-4e44-9f4c-5e408190f825",
   "metadata": {},
   "outputs": [
    {
     "name": "stdout",
     "output_type": "stream",
     "text": [
      "th\n"
     ]
    }
   ],
   "source": [
    "string1 = 'python'\n",
    "\n",
    "print(string1[2:4]) # 2~3까지 출력 (특정 문자열 출력) "
   ]
  },
  {
   "cell_type": "code",
   "execution_count": 13,
   "id": "3c2251fe-beff-43a5-aa3b-5e515a9802e4",
   "metadata": {},
   "outputs": [
    {
     "name": "stdout",
     "output_type": "stream",
     "text": [
      "     grace...\n"
     ]
    },
    {
     "data": {
      "text/plain": [
       "'     grace'"
      ]
     },
     "execution_count": 13,
     "metadata": {},
     "output_type": "execute_result"
    }
   ],
   "source": [
    "some_string = \"     grace...\"\n",
    "print(some_string)\n",
    "some_string.strip()\n",
    "some_string.strip(\".\")"
   ]
  },
  {
   "cell_type": "code",
   "execution_count": 14,
   "id": "766de75d-49e9-40a5-b1dc-d9fad9310cbe",
   "metadata": {},
   "outputs": [
    {
     "name": "stdout",
     "output_type": "stream",
     "text": [
      "I have a pen, I have an apple.\n",
      "I have a pen, I have an apple.\n"
     ]
    }
   ],
   "source": [
    "print(\"I have a {}, I have an {}.\".format( \"pen\", \"apple\"))\n",
    "print(\"I have a {0}, I have an {1}.\".format( \"pen\", \"apple\"))"
   ]
  },
  {
   "cell_type": "code",
   "execution_count": 15,
   "id": "f0dea919-d088-4260-91ba-d184d9382456",
   "metadata": {},
   "outputs": [
    {
     "name": "stdout",
     "output_type": "stream",
     "text": [
      "0.89\n"
     ]
    }
   ],
   "source": [
    "interest = 0.891\n",
    "print (format(interest, \".2f\")) # 소수점 두번째까지만 "
   ]
  },
  {
   "cell_type": "code",
   "execution_count": 16,
   "id": "1823c53e-5ca7-4fd9-be3d-5dae61975600",
   "metadata": {},
   "outputs": [
    {
     "name": "stdout",
     "output_type": "stream",
     "text": [
      "I am grace, I am 20 years old.\n"
     ]
    }
   ],
   "source": [
    "# %s -string, %c - character, %d - int, %f - float \n",
    "\n",
    "print (\"I am %s, I am %d years old.\" %(\"grace\", 20))"
   ]
  },
  {
   "cell_type": "code",
   "execution_count": 17,
   "id": "192c0a85-f417-4945-89e2-8e2a47398c1a",
   "metadata": {},
   "outputs": [
    {
     "name": "stdout",
     "output_type": "stream",
     "text": [
      "3.1\n"
     ]
    }
   ],
   "source": [
    "#소수 첫 번째 자리지지\n",
    "\n",
    "digit = 3.1234\n",
    "print(format(digit, \".1f\"))"
   ]
  },
  {
   "cell_type": "code",
   "execution_count": 18,
   "id": "7ce045c9-c8ba-4252-a714-02e7cf32c644",
   "metadata": {},
   "outputs": [
    {
     "name": "stdout",
     "output_type": "stream",
     "text": [
      "720\n",
      "100\n"
     ]
    }
   ],
   "source": [
    "# 문자열 <-> 정수\n",
    "\n",
    "data = '720'\n",
    "print (int(data))\n",
    "\n",
    "data1 = 100\n",
    "print (str(data1))"
   ]
  },
  {
   "cell_type": "code",
   "execution_count": 19,
   "id": "26dc61b0-8bfc-462e-b328-156df4b44da2",
   "metadata": {},
   "outputs": [
    {
     "name": "stdout",
     "output_type": "stream",
     "text": [
      "36\n"
     ]
    }
   ],
   "source": [
    "# 6의 2승\n",
    "\n",
    "print (6**2)"
   ]
  },
  {
   "cell_type": "code",
   "execution_count": 24,
   "id": "edb9ab6b-d319-4bad-952d-02d87d014826",
   "metadata": {},
   "outputs": [
    {
     "name": "stdout",
     "output_type": "stream",
     "text": [
      "['서울', '대전', '대구', '부산']\n",
      "서울\n"
     ]
    }
   ],
   "source": [
    "# List\n",
    "\n",
    "location = ['서울', '대전', '대구', '부산']\n",
    "print(location)\n",
    "print(location[0])"
   ]
  },
  {
   "cell_type": "code",
   "execution_count": null,
   "id": "280e8b2b-0156-4ee8-b49b-38126c946303",
   "metadata": {},
   "outputs": [
    {
     "data": {
      "text/plain": [
       "['서울', '대전', '대구', '부산', '제주', '제주']"
      ]
     },
     "execution_count": 26,
     "metadata": {},
     "output_type": "execute_result"
    }
   ],
   "source": [
    "# add data in list\n",
    "\n",
    "location.append('제주')\n",
    "location"
   ]
  },
  {
   "cell_type": "code",
   "execution_count": 34,
   "id": "8ce7403a",
   "metadata": {},
   "outputs": [
    {
     "data": {
      "text/plain": [
       "['인천', '인천', '서울', '제주', '제주']"
      ]
     },
     "execution_count": 34,
     "metadata": {},
     "output_type": "execute_result"
    }
   ],
   "source": [
    "location.insert(0, '인천')\n",
    "location"
   ]
  },
  {
   "cell_type": "code",
   "execution_count": 27,
   "id": "3ac62c36-64b5-478d-8e10-a8b4e1f56b74",
   "metadata": {},
   "outputs": [
    {
     "data": {
      "text/plain": [
       "['대전', '대구']"
      ]
     },
     "execution_count": 27,
     "metadata": {},
     "output_type": "execute_result"
    }
   ],
   "source": [
    "location[1:3]"
   ]
  },
  {
   "cell_type": "code",
   "execution_count": 32,
   "id": "6be73155",
   "metadata": {},
   "outputs": [
    {
     "data": {
      "text/plain": [
       "['서울', '제주', '제주']"
      ]
     },
     "execution_count": 32,
     "metadata": {},
     "output_type": "execute_result"
    }
   ],
   "source": [
    "# delete\n",
    "\n",
    "del location[1]\n",
    "location"
   ]
  },
  {
   "cell_type": "code",
   "execution_count": 37,
   "id": "f7ac3fe3",
   "metadata": {},
   "outputs": [],
   "source": [
    "# empty list\n",
    "# location = [] \n",
    "location = list()\n",
    "\n",
    "location.append('서울')\n",
    "location.append('대전')"
   ]
  },
  {
   "cell_type": "code",
   "execution_count": 36,
   "id": "82b712f3",
   "metadata": {},
   "outputs": [
    {
     "data": {
      "text/plain": [
       "'대전'"
      ]
     },
     "execution_count": 36,
     "metadata": {},
     "output_type": "execute_result"
    }
   ],
   "source": [
    "location[1]"
   ]
  },
  {
   "cell_type": "markdown",
   "id": "014a2ddb",
   "metadata": {},
   "source": [
    "## 리스트 변수\n",
    "\n",
    "1. 리스트 선언\n",
    "  - 리스트변수 = []\n",
    "  - 리스트 변수 = list()\n",
    "  - 리스트변수 = [데이터1, 데이터2,....]\n",
    "\n",
    "2. 리스트 추가\n",
    "  - 리스트변수.append(data)\n",
    "  - 리스트변수.insert(indexNum, data)\n",
    "\n",
    "3. 리스트 삭제\n",
    "  - 리스트변수.remove(data)\n",
    "  - del 리스트변수(인덱스번호)\n",
    "\n",
    "4. 리스트 데이터 수정\n",
    "  - 리스트변수[인덱스번호] =수정할 데이터 "
   ]
  },
  {
   "cell_type": "code",
   "execution_count": 38,
   "id": "088b190d",
   "metadata": {},
   "outputs": [
    {
     "data": {
      "text/plain": [
       "['서울', '대전']"
      ]
     },
     "execution_count": 38,
     "metadata": {},
     "output_type": "execute_result"
    }
   ],
   "source": [
    "location"
   ]
  },
  {
   "cell_type": "code",
   "execution_count": 39,
   "id": "9c3b9c31",
   "metadata": {},
   "outputs": [
    {
     "data": {
      "text/plain": [
       "['서울', '부산']"
      ]
     },
     "execution_count": 39,
     "metadata": {},
     "output_type": "execute_result"
    }
   ],
   "source": [
    "location[1] = '부산'\n",
    "location"
   ]
  },
  {
   "cell_type": "code",
   "execution_count": 41,
   "id": "4f3b5b99",
   "metadata": {},
   "outputs": [],
   "source": [
    "location = ['seoul', 'busan', 1,2.1, True] # 다양한 데이터 타입을 넣을 수 있음"
   ]
  },
  {
   "cell_type": "code",
   "execution_count": 42,
   "id": "6a27e812",
   "metadata": {},
   "outputs": [
    {
     "name": "stdout",
     "output_type": "stream",
     "text": [
      "[3, 1, 7, 10, 5]\n",
      "[1, 3, 5, 7, 10]\n"
     ]
    }
   ],
   "source": [
    "# 리스트 데이터 정렬\n",
    "\n",
    "numbers = [3, 1, 7, 10, 5]\n",
    "print(numbers)\n",
    "\n",
    "numbers.sort()\n",
    "print(numbers)"
   ]
  },
  {
   "cell_type": "code",
   "execution_count": 43,
   "id": "4db32b84",
   "metadata": {},
   "outputs": [
    {
     "name": "stdout",
     "output_type": "stream",
     "text": [
      "[5, 10, 7, 1, 3]\n"
     ]
    }
   ],
   "source": [
    "# 리스트 데이터 역순 정렬\n",
    "\n",
    "numbers = [3, 1, 7, 10, 5]\n",
    "numbers.reverse()\n",
    "print(numbers)"
   ]
  },
  {
   "cell_type": "code",
   "execution_count": 44,
   "id": "d74c42d3",
   "metadata": {},
   "outputs": [
    {
     "data": {
      "text/plain": [
       "['python', 'is', 'easy']"
      ]
     },
     "execution_count": 44,
     "metadata": {},
     "output_type": "execute_result"
    }
   ],
   "source": [
    "# 문자열 특수 함수와 리스트\n",
    "\n",
    "python_is_easy = 'python is easy'\n",
    "python_is_easy.split() # 공백을 기준으로 나눔"
   ]
  },
  {
   "cell_type": "code",
   "execution_count": null,
   "id": "e2c863a0",
   "metadata": {},
   "outputs": [],
   "source": []
  }
 ],
 "metadata": {
  "kernelspec": {
   "display_name": "base",
   "language": "python",
   "name": "python3"
  },
  "language_info": {
   "codemirror_mode": {
    "name": "ipython",
    "version": 3
   },
   "file_extension": ".py",
   "mimetype": "text/x-python",
   "name": "python",
   "nbconvert_exporter": "python",
   "pygments_lexer": "ipython3",
   "version": "3.9.18"
  }
 },
 "nbformat": 4,
 "nbformat_minor": 5
}
