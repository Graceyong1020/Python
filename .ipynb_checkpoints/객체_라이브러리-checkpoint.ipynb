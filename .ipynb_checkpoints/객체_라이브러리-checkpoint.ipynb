{
 "cells": [
  {
   "cell_type": "markdown",
   "id": "c6d1af04-afb3-4f00-8014-d67a3fe96b7a",
   "metadata": {},
   "source": [
    "1. 두 함수 차이?"
   ]
  },
  {
   "cell_type": "code",
   "execution_count": 2,
   "id": "fd898ada-ee75-487e-bd2a-7daa8a1b9f1f",
   "metadata": {},
   "outputs": [
    {
     "name": "stdout",
     "output_type": "stream",
     "text": [
      "Fun Coding\n"
     ]
    }
   ],
   "source": [
    "def print_string(data):\n",
    "    print(data)\n",
    "\n",
    "print_string(\"Fun Coding\")"
   ]
  },
  {
   "cell_type": "code",
   "execution_count": 4,
   "id": "5f7c7082-575f-4555-b623-2b9e8ba359ba",
   "metadata": {},
   "outputs": [
    {
     "data": {
      "text/plain": [
       "['Fun', 'Coding']"
      ]
     },
     "execution_count": 4,
     "metadata": {},
     "output_type": "execute_result"
    }
   ],
   "source": [
    "string = 'Fun Coding' #문자열 관련 설계도 있음 - 해당 설계도 기반 문자열1 객체가 만들어짐\n",
    "string.split() # 해당 문자열1 객체가 가지고 있는 메서드(method) "
   ]
  },
  {
   "cell_type": "markdown",
   "id": "1eac14b7-ce58-4bda-a337-7d58bb13b7a1",
   "metadata": {},
   "source": [
    "2. 객체지향 프로그래밍(Object Oriented Programming)\n",
    "\n",
    "   - 절차지향과 객체지향 프로그래밍\n",
    "       - 절차지향 프로그래밍\n",
    "            - 1990년대 이전 언어는 대부분 절차지향 프로그래밍\n",
    "            - 예: 냉장고에 코끼리를 넣는다 "
   ]
  },
  {
   "cell_type": "markdown",
   "id": "52fa2575-3f02-42e9-ba49-0a76020a5d98",
   "metadata": {},
   "source": [
    "객체지향\n",
    "1. 코끼리라는 사물의 기능, 정보에 대한 설계도 만든다\n",
    "2. 이 설계도를 기반으로 코끼리1 객체를 만든다\n",
    "3. 냉장고라는 사물의 기능, 정보에 대한 설계도를 만든다\n",
    "4. 이 설계도를 기반으로 냉장고1 객체를 만든다\n",
    "5. 코끼리1 의 객체의 기능을 호출해서 냉장고1의 객체의 문을 연다\n",
    "6. 코끼리1 의 객체의 기능을 호출해서 냉장고1의 객체안으로 들어간다\n",
    "7. 코끼리1 의 객체의 기능을 호출해서 냉장고1의 객체의 문을 닫는다\n"
   ]
  },
  {
   "cell_type": "markdown",
   "id": "c0909d70-9ca1-427f-9ac4-bc1fdc365004",
   "metadata": {},
   "source": [
    "1. 해당 사물을 나타낼 수 있는 설계도를 만든다 (class)\n",
    "2. 해당 사물의 설계도를 기반으로 사물1 객체를 만든다 (object)\n",
    "3. 사물1 객체의 기능을 호출한다\n",
    "   - attribute: 사물1 객체의 변수\n",
    "   - method: 사물1 객체의 함수"
   ]
  },
  {
   "cell_type": "markdown",
   "id": "b31f4b61-03c7-4a07-9505-a0162845e904",
   "metadata": {},
   "source": [
    "사물1객체의이름.method이름(인자) "
   ]
  },
  {
   "cell_type": "markdown",
   "id": "5e0a2e5b-cc2a-4d69-85ce-af80a52b00f9",
   "metadata": {},
   "source": [
    "[class 선언]\n"
   ]
  },
  {
   "cell_type": "code",
   "execution_count": 16,
   "id": "c8693811-8667-46f3-8fb9-b5c689db4067",
   "metadata": {},
   "outputs": [],
   "source": [
    "\n",
    "#class 클래스이름:\n",
    "    #attribute 선언\n",
    "    #method 선언\n",
    "\n",
    "#1. 선언\n",
    "class Qurd:\n",
    "    height = 0\n",
    "    width = 0\n",
    "    color = ''\n",
    "\n",
    "    def get_area(self, argument1, argument2):\n",
    "        print (argument1, argument2)\n",
    "        return self.name"
   ]
  },
  {
   "cell_type": "code",
   "execution_count": 17,
   "id": "6823f3fa-e5bb-467b-a862-95a28ce85a35",
   "metadata": {},
   "outputs": [],
   "source": [
    "#2. 객체 생성\n",
    "\n",
    "qurd1 = Qurd()\n",
    "qurd2 = Qurd()"
   ]
  },
  {
   "cell_type": "code",
   "execution_count": 18,
   "id": "7f59cc10-da23-4ff0-996d-bc68f0008100",
   "metadata": {},
   "outputs": [],
   "source": [
    "#3. 객체 기능 호출\n",
    "\n",
    "qurd1.width = 10 \n",
    "qurd1.height = 10\n",
    "qurd1.color='blue'\n",
    "\n",
    "qurd2.width = 5\n",
    "qurd2.height = 8\n",
    "qurd2.color = 'red'"
   ]
  },
  {
   "cell_type": "code",
   "execution_count": 14,
   "id": "375883c8-1791-4924-a9be-50db1591b212",
   "metadata": {},
   "outputs": [
    {
     "name": "stdout",
     "output_type": "stream",
     "text": [
      "10 5\n"
     ]
    }
   ],
   "source": [
    "print (qurd1.width,qurd2.width)"
   ]
  },
  {
   "cell_type": "code",
   "execution_count": 20,
   "id": "bc4be372-2716-4bef-b376-0de2d63c7564",
   "metadata": {},
   "outputs": [
    {
     "name": "stdout",
     "output_type": "stream",
     "text": [
      "blue red\n"
     ]
    }
   ],
   "source": [
    "print (qurd1.color, qurd2.color)"
   ]
  },
  {
   "cell_type": "code",
   "execution_count": null,
   "id": "e211934f-d210-4956-818a-02464f73dc41",
   "metadata": {},
   "outputs": [],
   "source": []
  },
  {
   "cell_type": "code",
   "execution_count": null,
   "id": "08654d49-e769-4fed-ad45-94bd7cf591ae",
   "metadata": {},
   "outputs": [],
   "source": []
  }
 ],
 "metadata": {
  "kernelspec": {
   "display_name": "Python 3 (ipykernel)",
   "language": "python",
   "name": "python3"
  },
  "language_info": {
   "codemirror_mode": {
    "name": "ipython",
    "version": 3
   },
   "file_extension": ".py",
   "mimetype": "text/x-python",
   "name": "python",
   "nbconvert_exporter": "python",
   "pygments_lexer": "ipython3",
   "version": "3.9.18"
  }
 },
 "nbformat": 4,
 "nbformat_minor": 5
}
