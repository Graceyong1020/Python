{
 "cells": [
  {
   "cell_type": "markdown",
   "metadata": {},
   "source": [
    "크롤링해서 엑셀 파일 만들기\n",
    "- openpyxl 라이브러리 활용\n",
    "    - xlsx 파일 읽고, 저장 가능\n",
    "    - pip install openpyxl"
   ]
  },
  {
   "cell_type": "code",
   "execution_count": 48,
   "metadata": {},
   "outputs": [
    {
     "name": "stdout",
     "output_type": "stream",
     "text": [
      "Requirement already satisfied: openpyxl in c:\\users\\baby\\anaconda3\\lib\\site-packages (3.1.5)\n",
      "Requirement already satisfied: et-xmlfile in c:\\users\\baby\\anaconda3\\lib\\site-packages (from openpyxl) (1.1.0)\n",
      "Note: you may need to restart the kernel to use updated packages.\n"
     ]
    },
    {
     "name": "stderr",
     "output_type": "stream",
     "text": [
      "WARNING: Ignoring invalid distribution -atplotlib (c:\\users\\baby\\anaconda3\\lib\\site-packages)\n",
      "WARNING: Ignoring invalid distribution -atplotlib (c:\\users\\baby\\anaconda3\\lib\\site-packages)\n",
      "WARNING: Ignoring invalid distribution -atplotlib (c:\\users\\baby\\anaconda3\\lib\\site-packages)\n"
     ]
    }
   ],
   "source": [
    "%pip install openpyxl"
   ]
  },
  {
   "cell_type": "code",
   "execution_count": 49,
   "metadata": {},
   "outputs": [],
   "source": [
    "import openpyxl"
   ]
  },
  {
   "cell_type": "code",
   "execution_count": 50,
   "metadata": {},
   "outputs": [],
   "source": [
    "# create excel file \n",
    "\n",
    "excel_file = openpyxl.Workbook()"
   ]
  },
  {
   "cell_type": "markdown",
   "metadata": {},
   "source": [
    "* 엑셀 파일이 생성되면 디폴트 쉬트가 생성, 엑셀파일변수.active로 해당 쉬트를 선택할 수 있음\n",
    "\n",
    "    - 해당 쉬트 이름을 변경하려면 title 변수값을 변경해주면 됨\n",
    "\n",
    "    - excel_sheet = excel_file.active\n",
    "    - excel_sheet.title = '리포트'\n",
    "    "
   ]
  },
  {
   "cell_type": "code",
   "execution_count": 51,
   "metadata": {},
   "outputs": [],
   "source": [
    "excel_sheet = excel_file.active"
   ]
  },
  {
   "cell_type": "markdown",
   "metadata": {},
   "source": [
    "* 데이터 추가\n",
    "    - 가장 간단한 방법: 엑셀파일변수.append(리스트 형태의 하나의 열 데이터)를 사용, 한 줄의 데이터 묶음을 쓸 수 있음"
   ]
  },
  {
   "cell_type": "code",
   "execution_count": 52,
   "metadata": {},
   "outputs": [],
   "source": [
    "excel_sheet.append(['Name', 'age', 'number'])"
   ]
  },
  {
   "cell_type": "code",
   "execution_count": 53,
   "metadata": {},
   "outputs": [],
   "source": [
    "# save the file\n",
    "\n",
    "excel_file.save('excel_file.xlsx')"
   ]
  },
  {
   "cell_type": "code",
   "execution_count": 54,
   "metadata": {},
   "outputs": [],
   "source": [
    "# close the file\n",
    "\n",
    "excel_file.close()"
   ]
  },
  {
   "cell_type": "markdown",
   "metadata": {},
   "source": [
    "[엑셀 파일 만들기]"
   ]
  },
  {
   "cell_type": "code",
   "execution_count": 55,
   "metadata": {},
   "outputs": [],
   "source": [
    "import openpyxl\n",
    "\n",
    "def write_excel_template(filename, sheetname, listdata):\n",
    "    excel_file = openpyxl.Workbook()\n",
    "    excel_sheet = excel_file.active \n",
    "    excel_sheet.column_dimensions['A'].width = 100 \n",
    "    excel_sheet.column_dimensions['B'].width = 30\n",
    "    \n",
    "    if sheetname != '': # if sheetname is not empty\n",
    "        excel_sheet.title = sheetname\n",
    "        \n",
    "    for item in listdata: # 각각의 행을 뽑아서 엑셀에 추가\n",
    "        excel_sheet.append(item) # item is a list\n",
    "    excel_file.save(filename) \n",
    "    excel_file.close()\n",
    "        \n",
    "    "
   ]
  },
  {
   "cell_type": "markdown",
   "metadata": {},
   "source": [
    "[크롤링해서 엑셀 파일 만들기]"
   ]
  },
  {
   "cell_type": "code",
   "execution_count": 56,
   "metadata": {},
   "outputs": [],
   "source": [
    "# 리스트 안에 리스으(각 행을 나타냄)가 들어가야 함\n",
    "\n",
    "import requests\n",
    "from bs4 import BeautifulSoup\n",
    "\n",
    "product_lists = list() # 리스트 안에 리스트가 들어가야 함\n",
    "\n",
    "for page_num in range(10): # 10 pages\n",
    "    if page_num == 0: # first page\n",
    "        res = requests.get('https://davelee-fun.github.io/')\n",
    "    else:\n",
    "        res = requests.get('https://davelee-fun.github.io/page' + str(page_num + 1)) \n",
    "    soup = BeautifulSoup(res.content, 'html.parser') \n",
    "    \n",
    "    data = soup.select('div.card') \n",
    "    for item in data: \n",
    "        product_name = item.select_one('div.card-body h4.card-text') \n",
    "        product_date= item.select_one('div.wrapfooter span.post-date')\n",
    "        product_info = [product_name.get_text().strip(), product_date.get_text()]\n",
    "        product_lists.append(product_info)\n",
    "\n",
    "\n"
   ]
  },
  {
   "cell_type": "code",
   "execution_count": 57,
   "metadata": {},
   "outputs": [],
   "source": [
    "write_excel_template('excel_file.xlsx', 'product', product_lists)"
   ]
  },
  {
   "cell_type": "markdown",
   "metadata": {},
   "source": [
    "[엑셀파일 읽기]"
   ]
  },
  {
   "cell_type": "code",
   "execution_count": 58,
   "metadata": {},
   "outputs": [],
   "source": [
    "import openpyxl"
   ]
  },
  {
   "cell_type": "code",
   "execution_count": 59,
   "metadata": {},
   "outputs": [],
   "source": [
    "# open the file\n",
    "\n",
    "excel_file = openpyxl.load_workbook('excel_file.xlsx')"
   ]
  },
  {
   "cell_type": "code",
   "execution_count": 60,
   "metadata": {},
   "outputs": [
    {
     "data": {
      "text/plain": [
       "['product']"
      ]
     },
     "execution_count": 60,
     "metadata": {},
     "output_type": "execute_result"
    }
   ],
   "source": [
    "# check the sheet names\n",
    "\n",
    "excel_file.sheetnames"
   ]
  },
  {
   "cell_type": "code",
   "execution_count": 61,
   "metadata": {},
   "outputs": [],
   "source": [
    "# get the sheet\n",
    "\n",
    "excel_sheet = excel_file['product']"
   ]
  },
  {
   "cell_type": "code",
   "execution_count": 62,
   "metadata": {},
   "outputs": [
    {
     "name": "stdout",
     "output_type": "stream",
     "text": [
      "상품명: 보몽드 순면스퀘어 솔리드 누빔매트커버, 다크블루 05 Jun 2020\n",
      "상품명: 슈에뜨룸 선인장 리플 침구 세트, 베이지 05 Jun 2020\n",
      "상품명: 선우랜드 레인보우 2단 문걸이용 옷걸이 _중형, 화이트, 상세페이지참조 05 Jun 2020\n",
      "상품명: 보드래 헬로우 누빔 매트리스커버, 핑크 05 Jun 2020\n",
      "상품명: 보드래 퍼펙트 누빔 매트리스커버, 차콜 05 Jun 2020\n",
      "상품명: 피아블 클래식 방수 매트리스커버, 화이트 05 Jun 2020\n",
      "상품명: 더자리 에코항균 마이크로 매트리스커버, 밀키차콜그레이 05 Jun 2020\n",
      "상품명: 더자리 프레쉬 퓨어 매트리스 커버, 퓨어 차콜그레이 05 Jun 2020\n",
      "상품명: 몽쉐어 알러스킨 항균 매트리스 커버, 카키그레이 05 Jun 2020\n",
      "상품명: 쿠팡 브랜드 - 코멧 홈 40수 트윌 순면 100% 홑겹 매트리스커버, 그레이 05 Jun 2020\n",
      "상품명: 패브릭아트 항균 마이크로 원단 매트리스 커버, 아이보리 05 Jun 2020\n",
      "상품명: 바숨 순면 누빔 침대 매트리스커버, 차콜 05 Jun 2020\n",
      "상품명: WEMAX 다용도 문옷걸이, 화이트, 1개 05 Jun 2020\n",
      "상품명: 타카타카 프리미엄 나노 화이바 누빔 매트리스 커버, 젠틀핑핑 05 Jun 2020\n",
      "상품명: 보몽드 순면스퀘어 누빔매트커버, 다크그레이 05 Jun 2020\n",
      "상품명: 보드래 국내산 순면 60수 누빔 매트리스커버, 그레이 05 Jun 2020\n",
      "상품명: 보드래 퍼펙트 누빔 매트리스커버, 베이지핑크 05 Jun 2020\n",
      "상품명: 쿠팡 브랜드 - 코멧 홈 40수 순면 누빔 매트리스커버, 챠콜 05 Jun 2020\n",
      "상품명: 바숨 순면 누빔 침대 매트리스커버, 화이트 05 Jun 2020\n",
      "상품명: 프랑떼 항균 방수 매트리스커버, 화이트 05 Jun 2020\n",
      "상품명: 보몽드 순면스퀘어 솔리드 누빔매트커버, 다크블루 05 Jun 2020\n",
      "상품명: 네이쳐리빙 피아블 클래식 방수 매트리스커버, 그레이 05 Jun 2020\n",
      "상품명: 쿠팡 브랜드 - 코멧 홈 순면 매트리스커버, 베이지 05 Jun 2020\n",
      "상품명: 타카타카 프리미엄 나노 화이바 누빔 매트리스 커버, 프렌치불독 05 Jun 2020\n",
      "상품명: 더자리 에코항균 마이크로 매트리스커버, 밀키그레이 05 Jun 2020\n",
      "상품명: 보몽드 순면스퀘어 누빔매트커버, 화이트 05 Jun 2020\n",
      "상품명: 피아블 클래식 방수 매트리스커버, 화이트 05 Jun 2020\n",
      "상품명: 쿠팡 브랜드 - 코멧 홈 순면 매트리스커버, 차콜그레이 05 Jun 2020\n",
      "상품명: 쉬즈홈 모던그리드 순면 여름이불 베개커버 패드세트, 핑크 05 Jun 2020\n",
      "상품명: 스코홈 빅리플 여름 차렵이불패드 3종 세트, 마린그레이 05 Jun 2020\n",
      "상품명: 아망떼 시어서커 리플 홑이불 패드세트, 웨이크 05 Jun 2020\n",
      "상품명: 마이센스 무더운 여름엔 시어서커 여름이불 패드 베개 이불세트 30종, 시어서커_파스텔그레이 05 Jun 2020\n",
      "상품명: 믹스앤매치 로라 프릴 시어서커 침구세트, 그레이 05 Jun 2020\n",
      "상품명: 에피소드1 샤베트 프릴 시어서커 여름이불패드세트, 그레이 05 Jun 2020\n",
      "상품명: 슈에뜨룸 선인장 리플 침구 세트, 베이지 05 Jun 2020\n",
      "상품명: 아망떼 시어서커 리플 홑이불 패드세트, 허브티 05 Jun 2020\n",
      "상품명: 지베딩 아이스베어 시어서커 여름침구 풀세트, 민트그레이 05 Jun 2020\n",
      "상품명: 쁘리엘르 테스 시어서커 여름이불 패드세트, 그레이 05 Jun 2020\n",
      "상품명: 쉬즈홈 시어서커 홑이불 + 토퍼 + 베개커버 세트, 나나 옐로우 05 Jun 2020\n",
      "상품명: 아망떼 시어서커 리플 퀼팅 이불패드세트, 리엔나 05 Jun 2020\n",
      "상품명: 바자르 트로피컬 인견 여름 이불세트 인견이불 + 베개커버 2p + 인견패드, 그린 05 Jun 2020\n",
      "상품명: 바자르 라이닝 혼방 인견 여름 이불베개세트 + 패드 Q, 쿨 네이비 05 Jun 2020\n",
      "상품명: 슈에뜨룸 비숑 피치스킨 침구세트, 그레이 05 Jun 2020\n",
      "상품명: 스코홈 시어서커 여름 이불 패드 3종 세트, 차콜 05 Jun 2020\n",
      "상품명: 스코홈 어번시리즈 순면 차렵이불 누빔 매트커버세트 S 차콜 05 Jun 2020\n",
      "상품명: 쉬즈홈 루즈 시어서커 차렵이불 패드세트, 그레이 05 Jun 2020\n",
      "상품명: 예가로드 메리엘 시어서커 누비이불 패드세트, 블루 05 Jun 2020\n",
      "상품명: 에피소드1 샤베트 프릴 시어서커 여름이불패드세트, 화이트 05 Jun 2020\n",
      "상품명: 쉬즈홈 플루 시어서커 차렵이불 패드세트, 그린 05 Jun 2020\n",
      "상품명: 메종 레이스 차렵 이불 세트, 블루 05 Jun 2020\n",
      "상품명: 믹스앤매치 로라 프릴 시어서커 침구세트, 그린 05 Jun 2020\n",
      "상품명: 슈에뜨룸 발그레 피치 리플 침구 세트, 혼합 색상 05 Jun 2020\n",
      "상품명: 보몽드 메종 레이스 차렵이불 3종 세트, 민트 05 Jun 2020\n",
      "상품명: 슈에뜨룸 체크 피치스킨 침구세트, 모카 05 Jun 2020\n",
      "상품명: 메리엘 시어서커 에어리플 이불세트, 그레이 05 Jun 2020\n",
      "상품명: 슈에뜨룸 빠삐용 시어서커 침구세트, 네이비 05 Jun 2020\n",
      "상품명: 믹스앤매치 에이프릴 리플 누비이불 패드세트, 화이트 05 Jun 2020\n",
      "상품명: 쉬즈홈 시어서커 홑이불 토퍼세트, 루즈 그레이 05 Jun 2020\n",
      "상품명: 이코디 5단 엔틱 도어 행거, 브라운, 1개 05 Jun 2020\n",
      "상품명: 선우랜드 우드볼 도어훅 4구, 실버, 1개 05 Jun 2020\n",
      "상품명: 리은상점 다용도 도어훅 문걸이 행거 모자걸이 머플러 목도리 걸이, 화이트, 5개 05 Jun 2020\n",
      "상품명: 퍼니스코 다용도걸이 모자걸이 가방걸이 도어훅 도어행거 문걸이, 엔틱브라운, 1세트 05 Jun 2020\n",
      "상품명: 스텐 도어후크 옷걸이/도어훅 문옷걸이 행거 바지걸이, 혼합 색상, 1개 05 Jun 2020\n",
      "상품명: 디비플러스 키펙스 컬러 폭조절 오버 도어훅, 블랙, 1개 05 Jun 2020\n",
      "상품명: 리빙스토리 1+1 문에 거는 문 옷걸이 음자리 도어후크 방문 행거, 음자리도어후크-로즈골드, 2개 05 Jun 2020\n",
      "상품명: 나이스후크 도어행거 2개 세트 (문행거), 블랙+화이트 05 Jun 2020\n",
      "상품명: 리빙파이 도어훅 옷걸이 행거 7구, 블랙, 1개 05 Jun 2020\n",
      "상품명: 선우랜드 우드볼 도어훅 10구, 실버, 1개 05 Jun 2020\n",
      "상품명: 웰렉스 도어행거 MH1060 신형 본사직발송 미니건조대 도어옷걸이 도어훅, 고동색, 1개 05 Jun 2020\n",
      "상품명: 엔비 엔틱 7구 도어훅 옷걸이, 도어훅 1+1, 1+1 05 Jun 2020\n",
      "상품명: 코시나 무타공 문걸이 후크선반 1단, 화이트, 1개 05 Jun 2020\n",
      "상품명: 코시나 무타공 올스텐 문걸이행거, 혼합 색상, 1개 05 Jun 2020\n",
      "상품명: [아트박스 POOM/이케아] ENUDDEN 도어 행거, 본품, 수량 05 Jun 2020\n",
      "상품명: 비스비바 우드 폴 다용도걸이 3구, 혼합 색상, 1개 05 Jun 2020\n",
      "상품명: 숲속애 웨이브 도어후크 5구, 블랙, 1개 05 Jun 2020\n",
      "상품명: 펀타스틱 다용도 문틀걸이, 화이트, 1개 05 Jun 2020\n",
      "상품명: 선우랜드 우드볼 도어훅 4구, 화이트, 1개 05 Jun 2020\n",
      "상품명: 네이쳐리빙 어반모카 와이어 도어훅 옷걸이 6구, 단일 색상, 1개 05 Jun 2020\n",
      "상품명: 까사마루 블랑 접이식 문걸이 건조대, 1개 05 Jun 2020\n",
      "상품명: 선우랜드 우드볼 도어훅 6구, 실버, 1개 05 Jun 2020\n",
      "상품명: 이케아 ENUDDEN 문걸이 행거 402.516.66, 화이트, 1개 05 Jun 2020\n",
      "상품명: 선우랜드 우드볼 도어훅 10구, 화이트, 1개 05 Jun 2020\n",
      "상품명: 코멧 홈 우드볼 도어행거, 6구, 혼합색상 05 Jun 2020\n",
      "상품명: 선우랜드 레인보우 2단 문걸이용 옷걸이 _중형, 화이트, 상세페이지참조 05 Jun 2020\n",
      "상품명: 코시나 무타공 문걸이 후크선반 2단, 화이트, 1개 05 Jun 2020\n",
      "상품명: 스파이더락 도어후크 8구, 화이트, 1개 05 Jun 2020\n",
      "상품명: 선우랜드 우드볼 도어훅 6구, 화이트, 1개 05 Jun 2020\n",
      "상품명: 코멧 홈 우드볼 도어행거, 10구, 혼합색상 05 Jun 2020\n",
      "상품명: 보드래 헬로우 누빔 매트리스커버, 핑크 05 Jun 2020\n",
      "상품명: 보몽드 순면스퀘어 솔리드 누빔매트커버, 아이보리 05 Jun 2020\n",
      "상품명: 더자리 에코항균 마이크로 매트리스커버, 밀키핑크 05 Jun 2020\n",
      "상품명: 타카타카 프리미엄 나노 화이바 누빔 매트리스 커버, 미스밍고 05 Jun 2020\n",
      "상품명: 네이쳐리빙 피아블 클래식 방수 매트리스커버, 그레이 05 Jun 2020\n",
      "상품명: 프로텍트어베드 베이직 매트리스 방수커버, 그레이 05 Jun 2020\n"
     ]
    }
   ],
   "source": [
    "# get the cell\n",
    "\n",
    "for item in excel_sheet.rows:\n",
    "    print(item[0].value, item[1].value)"
   ]
  },
  {
   "cell_type": "code",
   "execution_count": null,
   "metadata": {},
   "outputs": [],
   "source": []
  }
 ],
 "metadata": {
  "kernelspec": {
   "display_name": "base",
   "language": "python",
   "name": "python3"
  },
  "language_info": {
   "codemirror_mode": {
    "name": "ipython",
    "version": 3
   },
   "file_extension": ".py",
   "mimetype": "text/x-python",
   "name": "python",
   "nbconvert_exporter": "python",
   "pygments_lexer": "ipython3",
   "version": "3.9.19"
  }
 },
 "nbformat": 4,
 "nbformat_minor": 2
}
