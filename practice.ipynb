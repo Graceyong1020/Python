{
 "cells": [
  {
   "cell_type": "code",
   "execution_count": 2,
   "id": "a75de8f5-3469-4751-b8d9-e9171970134e",
   "metadata": {},
   "outputs": [
    {
     "name": "stdout",
     "output_type": "stream",
     "text": [
      "hello python\n"
     ]
    }
   ],
   "source": [
    "print ('hello python')"
   ]
  },
  {
   "cell_type": "code",
   "execution_count": 5,
   "id": "7f33bdb2-c747-4322-af10-f7cca0db0bd8",
   "metadata": {},
   "outputs": [
    {
     "name": "stdout",
     "output_type": "stream",
     "text": [
      "10\n",
      "7\n",
      "2.142857142857143\n",
      "3400\n",
      "6\n"
     ]
    }
   ],
   "source": [
    "print(3 + 7)\n",
    "print(10 - 3)\n",
    "print(15 / 7)\n",
    "print(34 * 100)\n",
    "print ((1+1) *3)"
   ]
  },
  {
   "cell_type": "code",
   "execution_count": 6,
   "id": "96cd67c8-667b-42a5-8741-e18e80a4dae8",
   "metadata": {},
   "outputs": [
    {
     "name": "stdout",
     "output_type": "stream",
     "text": [
      "hello python\n",
      "hello 1 1.1 True\n"
     ]
    }
   ],
   "source": [
    "# valiable\n",
    "\n",
    "print('hello python')\n",
    "str_data = 'hello' #string\n",
    "int_data = 1 #integer\n",
    "float_data = 1.1 \n",
    "bool_data = True # Boolean \n",
    "\n",
    "print(str_data, int_data, float_data, bool_data)\n"
   ]
  },
  {
   "cell_type": "code",
   "execution_count": 7,
   "id": "119e00c8-83ff-4b59-b8d2-a9619378db8e",
   "metadata": {},
   "outputs": [
    {
     "name": "stdout",
     "output_type": "stream",
     "text": [
      "19\n",
      "9\n",
      "70\n",
      "2.8\n"
     ]
    }
   ],
   "source": [
    "num1 = 14\n",
    "num2 = 5\n",
    "print(num1 + num2)\n",
    "print(num1 - num2)\n",
    "print(num1 * num2)\n",
    "print(num1 / num2)\n"
   ]
  },
  {
   "cell_type": "code",
   "execution_count": 8,
   "id": "97be9e8d-8100-4a04-99ae-d7e2c36625ee",
   "metadata": {},
   "outputs": [
    {
     "name": "stdout",
     "output_type": "stream",
     "text": [
      "True\n",
      "False\n",
      "True\n",
      "True\n",
      "True\n",
      "False\n",
      "True\n"
     ]
    }
   ],
   "source": [
    "print(3 < 7)\n",
    "print(10 < 3)\n",
    "print(15 > 7)\n",
    "print(3 >= 3)\n",
    "print(3 <= 10)\n",
    "print(34 == 100)\n",
    "print(34 != 100)"
   ]
  },
  {
   "cell_type": "code",
   "execution_count": 10,
   "id": "477ea610-80f4-4d66-a87d-0bb9dce1289a",
   "metadata": {},
   "outputs": [
    {
     "name": "stdout",
     "output_type": "stream",
     "text": [
      "20 62.800000000000004 314.0\n"
     ]
    }
   ],
   "source": [
    "r = 10\n",
    "pi = 3.14\n",
    "\n",
    "diameter = r *2 \n",
    "circumference = 2*pi*r\n",
    "area = pi * (r **2) \n",
    "\n",
    "print(diameter, circumference, area)"
   ]
  },
  {
   "cell_type": "code",
   "execution_count": 14,
   "id": "f7bc27e8-ce5b-415d-8d28-758fe883e0e4",
   "metadata": {},
   "outputs": [
    {
     "data": {
      "text/plain": [
       "12"
      ]
     },
     "execution_count": 14,
     "metadata": {},
     "output_type": "execute_result"
    }
   ],
   "source": [
    "#Type Casting\n",
    "\n",
    "float(3)\n",
    "int(3.6)\n",
    "str(1)\n",
    "int('12') # str -> int "
   ]
  },
  {
   "cell_type": "code",
   "execution_count": 16,
   "id": "bb9c5d57-e1a8-4d0c-9abd-0b8fdd91a671",
   "metadata": {},
   "outputs": [
    {
     "name": "stdout",
     "output_type": "stream",
     "text": [
      "<class 'str'>\n"
     ]
    }
   ],
   "source": [
    "digit_str = '123'\n",
    "print(type(digit_str))"
   ]
  },
  {
   "cell_type": "code",
   "execution_count": null,
   "id": "4fe8b7ac-8f90-48cc-b1fa-122e68be5905",
   "metadata": {},
   "outputs": [],
   "source": []
  }
 ],
 "metadata": {
  "kernelspec": {
   "display_name": "Python 3 (ipykernel)",
   "language": "python",
   "name": "python3"
  },
  "language_info": {
   "codemirror_mode": {
    "name": "ipython",
    "version": 3
   },
   "file_extension": ".py",
   "mimetype": "text/x-python",
   "name": "python",
   "nbconvert_exporter": "python",
   "pygments_lexer": "ipython3",
   "version": "3.9.18"
  }
 },
 "nbformat": 4,
 "nbformat_minor": 5
}
